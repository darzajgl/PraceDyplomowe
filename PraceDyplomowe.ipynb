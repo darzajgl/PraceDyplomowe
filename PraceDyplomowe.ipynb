{
    "metadata": {
        "kernelspec": {
            "name": "SQL",
            "display_name": "SQL",
            "language": "sql"
        },
        "language_info": {
            "name": "sql",
            "version": ""
        }
    },
    "nbformat_minor": 2,
    "nbformat": 4,
    "cells": [
        {
            "cell_type": "markdown",
            "source": [
                "**Stowrzenie bazy danych**"
            ],
            "metadata": {
                "azdata_cell_guid": "de889eb8-f801-4592-9b35-9eb6e5db84c2"
            },
            "attachments": {}
        },
        {
            "cell_type": "code",
            "source": [
                "USE [master]\r\n",
                "GO\r\n",
                "\r\n",
                "CREATE DATABASE [PraceDyplomowe]\r\n",
                " CONTAINMENT = NONE\r\n",
                "GO\r\n",
                "ALTER DATABASE [PraceDyplomowe] SET COMPATIBILITY_LEVEL = 140\r\n",
                "GO\r\n",
                "IF (1 = FULLTEXTSERVICEPROPERTY('IsFullTextInstalled'))\r\n",
                "begin\r\n",
                "EXEC [PraceDyplomowe].[dbo].[sp_fulltext_database] @action = 'enable'\r\n",
                "end\r\n",
                "GO\r\n",
                "ALTER DATABASE [PraceDyplomowe] SET ANSI_NULL_DEFAULT OFF \r\n",
                "GO\r\n",
                "ALTER DATABASE [PraceDyplomowe] SET ANSI_NULLS OFF \r\n",
                "GO\r\n",
                "ALTER DATABASE [PraceDyplomowe] SET ANSI_PADDING OFF \r\n",
                "GO\r\n",
                "ALTER DATABASE [PraceDyplomowe] SET ANSI_WARNINGS OFF \r\n",
                "GO\r\n",
                "ALTER DATABASE [PraceDyplomowe] SET ARITHABORT OFF \r\n",
                "GO\r\n",
                "ALTER DATABASE [PraceDyplomowe] SET AUTO_CLOSE OFF \r\n",
                "GO\r\n",
                "ALTER DATABASE [PraceDyplomowe] SET AUTO_SHRINK OFF \r\n",
                "GO\r\n",
                "ALTER DATABASE [PraceDyplomowe] SET AUTO_UPDATE_STATISTICS ON \r\n",
                "GO\r\n",
                "ALTER DATABASE [PraceDyplomowe] SET CURSOR_CLOSE_ON_COMMIT OFF \r\n",
                "GO\r\n",
                "ALTER DATABASE [PraceDyplomowe] SET CURSOR_DEFAULT  GLOBAL \r\n",
                "GO\r\n",
                "ALTER DATABASE [PraceDyplomowe] SET CONCAT_NULL_YIELDS_NULL OFF \r\n",
                "GO\r\n",
                "ALTER DATABASE [PraceDyplomowe] SET NUMERIC_ROUNDABORT OFF \r\n",
                "GO\r\n",
                "ALTER DATABASE [PraceDyplomowe] SET QUOTED_IDENTIFIER OFF \r\n",
                "GO\r\n",
                "ALTER DATABASE [PraceDyplomowe] SET RECURSIVE_TRIGGERS OFF \r\n",
                "GO\r\n",
                "ALTER DATABASE [PraceDyplomowe] SET  DISABLE_BROKER \r\n",
                "GO\r\n",
                "ALTER DATABASE [PraceDyplomowe] SET AUTO_UPDATE_STATISTICS_ASYNC OFF \r\n",
                "GO\r\n",
                "ALTER DATABASE [PraceDyplomowe] SET DATE_CORRELATION_OPTIMIZATION OFF \r\n",
                "GO\r\n",
                "ALTER DATABASE [PraceDyplomowe] SET TRUSTWORTHY OFF \r\n",
                "GO\r\n",
                "ALTER DATABASE [PraceDyplomowe] SET ALLOW_SNAPSHOT_ISOLATION OFF \r\n",
                "GO\r\n",
                "ALTER DATABASE [PraceDyplomowe] SET PARAMETERIZATION SIMPLE \r\n",
                "GO\r\n",
                "ALTER DATABASE [PraceDyplomowe] SET READ_COMMITTED_SNAPSHOT OFF \r\n",
                "GO\r\n",
                "ALTER DATABASE [PraceDyplomowe] SET HONOR_BROKER_PRIORITY OFF \r\n",
                "GO\r\n",
                "ALTER DATABASE [PraceDyplomowe] SET RECOVERY SIMPLE \r\n",
                "GO\r\n",
                "ALTER DATABASE [PraceDyplomowe] SET  MULTI_USER \r\n",
                "GO\r\n",
                "ALTER DATABASE [PraceDyplomowe] SET PAGE_VERIFY CHECKSUM  \r\n",
                "GO\r\n",
                "ALTER DATABASE [PraceDyplomowe] SET DB_CHAINING OFF \r\n",
                "GO\r\n",
                "ALTER DATABASE [PraceDyplomowe] SET FILESTREAM( NON_TRANSACTED_ACCESS = OFF ) \r\n",
                "GO\r\n",
                "ALTER DATABASE [PraceDyplomowe] SET TARGET_RECOVERY_TIME = 60 SECONDS \r\n",
                "GO\r\n",
                "ALTER DATABASE [PraceDyplomowe] SET DELAYED_DURABILITY = DISABLED \r\n",
                "GO\r\n",
                "ALTER DATABASE [PraceDyplomowe] SET QUERY_STORE = OFF\r\n",
                "GO\r\n",
                "USE [PraceDyplomowe]\r\n",
                "GO\r\n",
                "\r\n",
                "SET ANSI_NULLS ON\r\n",
                "GO\r\n",
                "SET QUOTED_IDENTIFIER ON\r\n",
                "GO\r\n",
                "CREATE TABLE [dbo].[EgzaminDyplomowy](\r\n",
                "\t[ID_EgzaminDyplomowy] [int] NOT NULL,\r\n",
                "\t[ID_Student] [int] NOT NULL,\r\n",
                "\t[ID_Praca] [int] NOT NULL,\r\n",
                "\t[ID_Miejsce] [int] NOT NULL,\r\n",
                "\t[ID_Przewodniczacy] [int] NOT NULL,\r\n",
                "\t[Data] [date] NOT NULL,\r\n",
                "\t[OcenaKoncowa] [smallint] NOT NULL,\r\n",
                " CONSTRAINT [PK_EgzaminDyplomowy] PRIMARY KEY CLUSTERED \r\n",
                "(\r\n",
                "\t[ID_EgzaminDyplomowy] ASC\r\n",
                ")WITH (PAD_INDEX = OFF, STATISTICS_NORECOMPUTE = OFF, IGNORE_DUP_KEY = OFF, ALLOW_ROW_LOCKS = ON, ALLOW_PAGE_LOCKS = ON) ON [PRIMARY]\r\n",
                ") ON [PRIMARY]\r\n",
                "GO\r\n",
                "\r\n",
                "SET ANSI_NULLS ON\r\n",
                "GO\r\n",
                "SET QUOTED_IDENTIFIER ON\r\n",
                "GO\r\n",
                "CREATE TABLE [dbo].[MiejsceObrony](\r\n",
                "\t[ID_Miejsce] [int] NOT NULL,\r\n",
                "\t[Budynek] [varchar](50) NOT NULL,\r\n",
                "\t[Sala] [varchar](50) NOT NULL,\r\n",
                " CONSTRAINT [PK_MiejsceObrony] PRIMARY KEY CLUSTERED \r\n",
                "(\r\n",
                "\t[ID_Miejsce] ASC\r\n",
                ")WITH (PAD_INDEX = OFF, STATISTICS_NORECOMPUTE = OFF, IGNORE_DUP_KEY = OFF, ALLOW_ROW_LOCKS = ON, ALLOW_PAGE_LOCKS = ON) ON [PRIMARY]\r\n",
                ") ON [PRIMARY]\r\n",
                "GO\r\n",
                "\r\n",
                "SET ANSI_NULLS ON\r\n",
                "GO\r\n",
                "SET QUOTED_IDENTIFIER ON\r\n",
                "GO\r\n",
                "CREATE TABLE [dbo].[PracaDyplomowa](\r\n",
                "\t[ID_Praca] [int] NOT NULL,\r\n",
                "\t[Temat] [varchar](max) NOT NULL,\r\n",
                "\t[ID_TypStudiow] [int] NOT NULL,\r\n",
                "\t[ID_Promotor] [int] NOT NULL,\r\n",
                "\t[DataZlozenia] [date] NULL,\r\n",
                " CONSTRAINT [PK_PracaDyplomowa] PRIMARY KEY CLUSTERED \r\n",
                "(\r\n",
                "\t[ID_Praca] ASC\r\n",
                ")WITH (PAD_INDEX = OFF, STATISTICS_NORECOMPUTE = OFF, IGNORE_DUP_KEY = OFF, ALLOW_ROW_LOCKS = ON, ALLOW_PAGE_LOCKS = ON) ON [PRIMARY]\r\n",
                ") ON [PRIMARY] TEXTIMAGE_ON [PRIMARY]\r\n",
                "GO\r\n",
                "\r\n",
                "SET ANSI_NULLS ON\r\n",
                "GO\r\n",
                "SET QUOTED_IDENTIFIER ON\r\n",
                "GO\r\n",
                "CREATE TABLE [dbo].[Pracownik](\r\n",
                "\t[ID_Pracownik] [int] NOT NULL,\r\n",
                "\t[ID_StopienNaukowy] [int] NULL,\r\n",
                "\t[Imie] [varchar](50) NOT NULL,\r\n",
                "\t[Nazwisko] [varchar](50) NOT NULL,\r\n",
                "\t[Telefon] [int] NULL,\r\n",
                "\t[Email] [varchar](50) NULL,\r\n",
                " CONSTRAINT [PK_Pracownik] PRIMARY KEY CLUSTERED \r\n",
                "(\r\n",
                "\t[ID_Pracownik] ASC\r\n",
                ")WITH (PAD_INDEX = OFF, STATISTICS_NORECOMPUTE = OFF, IGNORE_DUP_KEY = OFF, ALLOW_ROW_LOCKS = ON, ALLOW_PAGE_LOCKS = ON) ON [PRIMARY]\r\n",
                ") ON [PRIMARY]\r\n",
                "GO\r\n",
                "\r\n",
                "SET ANSI_NULLS ON\r\n",
                "GO\r\n",
                "SET QUOTED_IDENTIFIER ON\r\n",
                "GO\r\n",
                "CREATE TABLE [dbo].[Recenzja](\r\n",
                "\t[ID_Recenzja] [int] NOT NULL,\r\n",
                "\t[ID_Praca] [int] NOT NULL,\r\n",
                "\t[ID_Recenzent] [int] NOT NULL,\r\n",
                "\t[Ocena] [smallint] NOT NULL,\r\n",
                "\t[Komentarz] [varchar](max) NULL,\r\n",
                " CONSTRAINT [PK_Recenzja] PRIMARY KEY CLUSTERED \r\n",
                "(\r\n",
                "\t[ID_Recenzja] ASC\r\n",
                ")WITH (PAD_INDEX = OFF, STATISTICS_NORECOMPUTE = OFF, IGNORE_DUP_KEY = OFF, ALLOW_ROW_LOCKS = ON, ALLOW_PAGE_LOCKS = ON) ON [PRIMARY]\r\n",
                ") ON [PRIMARY] TEXTIMAGE_ON [PRIMARY]\r\n",
                "GO\r\n",
                "\r\n",
                "SET ANSI_NULLS ON\r\n",
                "GO\r\n",
                "SET QUOTED_IDENTIFIER ON\r\n",
                "GO\r\n",
                "CREATE TABLE [dbo].[Slownik](\r\n",
                "\t[ID_Slowo] [int] NOT NULL,\r\n",
                "\t[NazwaSlowaKluczowego] [varchar](50) NOT NULL,\r\n",
                " CONSTRAINT [PK_Slownik] PRIMARY KEY CLUSTERED \r\n",
                "(\r\n",
                "\t[ID_Slowo] ASC\r\n",
                ")WITH (PAD_INDEX = OFF, STATISTICS_NORECOMPUTE = OFF, IGNORE_DUP_KEY = OFF, ALLOW_ROW_LOCKS = ON, ALLOW_PAGE_LOCKS = ON) ON [PRIMARY]\r\n",
                ") ON [PRIMARY]\r\n",
                "GO\r\n",
                "\r\n",
                "SET ANSI_NULLS ON\r\n",
                "GO\r\n",
                "SET QUOTED_IDENTIFIER ON\r\n",
                "GO\r\n",
                "CREATE TABLE [dbo].[SlowoKluczowe](\r\n",
                "\t[ID_SlowoKluczowe] [int] NOT NULL,\r\n",
                "\t[ID_Praca] [int] NOT NULL,\r\n",
                "\t[ID_Slowo] [int] NOT NULL,\r\n",
                " CONSTRAINT [PK_SlowoKluczowe] PRIMARY KEY CLUSTERED \r\n",
                "(\r\n",
                "\t[ID_SlowoKluczowe] ASC\r\n",
                ")WITH (PAD_INDEX = OFF, STATISTICS_NORECOMPUTE = OFF, IGNORE_DUP_KEY = OFF, ALLOW_ROW_LOCKS = ON, ALLOW_PAGE_LOCKS = ON) ON [PRIMARY]\r\n",
                ") ON [PRIMARY]\r\n",
                "GO\r\n",
                "\r\n",
                "SET ANSI_NULLS ON\r\n",
                "GO\r\n",
                "SET QUOTED_IDENTIFIER ON\r\n",
                "GO\r\n",
                "CREATE TABLE [dbo].[StopienNaukowy](\r\n",
                "\t[ID_StopienNaukowy] [int] NOT NULL,\r\n",
                "\t[NazwaStopniaNaukowego] [varchar](25) NOT NULL,\r\n",
                " CONSTRAINT [PK_StopienNaukowy] PRIMARY KEY CLUSTERED \r\n",
                "(\r\n",
                "\t[ID_StopienNaukowy] ASC\r\n",
                ")WITH (PAD_INDEX = OFF, STATISTICS_NORECOMPUTE = OFF, IGNORE_DUP_KEY = OFF, ALLOW_ROW_LOCKS = ON, ALLOW_PAGE_LOCKS = ON) ON [PRIMARY]\r\n",
                ") ON [PRIMARY]\r\n",
                "GO\r\n",
                "\r\n",
                "SET ANSI_NULLS ON\r\n",
                "GO\r\n",
                "SET QUOTED_IDENTIFIER ON\r\n",
                "GO\r\n",
                "CREATE TABLE [dbo].[Student](\r\n",
                "\t[ID_Student] [int] NOT NULL,\r\n",
                "\t[Imie] [varchar](50) NOT NULL,\r\n",
                "\t[Nazwisko] [varchar](50) NOT NULL,\r\n",
                "\t[Telefon] [int] NULL,\r\n",
                "\t[Email] [varchar](50) NULL,\r\n",
                " CONSTRAINT [PK_Student] PRIMARY KEY CLUSTERED \r\n",
                "(\r\n",
                "\t[ID_Student] ASC\r\n",
                ")WITH (PAD_INDEX = OFF, STATISTICS_NORECOMPUTE = OFF, IGNORE_DUP_KEY = OFF, ALLOW_ROW_LOCKS = ON, ALLOW_PAGE_LOCKS = ON) ON [PRIMARY]\r\n",
                ") ON [PRIMARY]\r\n",
                "GO\r\n",
                "\r\n",
                "SET ANSI_NULLS ON\r\n",
                "GO\r\n",
                "SET QUOTED_IDENTIFIER ON\r\n",
                "GO\r\n",
                "CREATE TABLE [dbo].[TypStudiow](\r\n",
                "\t[ID_TypStudiow] [int] NOT NULL,\r\n",
                "\t[NazwaTypuStudiow] [varchar](50) NOT NULL,\r\n",
                " CONSTRAINT [PK_TypStudiow] PRIMARY KEY CLUSTERED \r\n",
                "(\r\n",
                "\t[ID_TypStudiow] ASC\r\n",
                ")WITH (PAD_INDEX = OFF, STATISTICS_NORECOMPUTE = OFF, IGNORE_DUP_KEY = OFF, ALLOW_ROW_LOCKS = ON, ALLOW_PAGE_LOCKS = ON) ON [PRIMARY]\r\n",
                ") ON [PRIMARY]\r\n",
                "GO\r\n",
                "ALTER TABLE [dbo].[EgzaminDyplomowy]  WITH CHECK ADD  CONSTRAINT [FK_EgzaminDyplomowy_MiejsceObrony] FOREIGN KEY([ID_Miejsce])\r\n",
                "REFERENCES [dbo].[MiejsceObrony] ([ID_Miejsce])\r\n",
                "GO\r\n",
                "ALTER TABLE [dbo].[EgzaminDyplomowy] CHECK CONSTRAINT [FK_EgzaminDyplomowy_MiejsceObrony]\r\n",
                "GO\r\n",
                "ALTER TABLE [dbo].[EgzaminDyplomowy]  WITH CHECK ADD  CONSTRAINT [FK_EgzaminDyplomowy_PracaDyplomowa] FOREIGN KEY([ID_Praca])\r\n",
                "REFERENCES [dbo].[PracaDyplomowa] ([ID_Praca])\r\n",
                "GO\r\n",
                "ALTER TABLE [dbo].[EgzaminDyplomowy] CHECK CONSTRAINT [FK_EgzaminDyplomowy_PracaDyplomowa]\r\n",
                "GO\r\n",
                "ALTER TABLE [dbo].[EgzaminDyplomowy]  WITH CHECK ADD  CONSTRAINT [FK_EgzaminDyplomowy_Pracownik1] FOREIGN KEY([ID_Przewodniczacy])\r\n",
                "REFERENCES [dbo].[Pracownik] ([ID_Pracownik])\r\n",
                "GO\r\n",
                "ALTER TABLE [dbo].[EgzaminDyplomowy] CHECK CONSTRAINT [FK_EgzaminDyplomowy_Pracownik1]\r\n",
                "GO\r\n",
                "ALTER TABLE [dbo].[EgzaminDyplomowy]  WITH CHECK ADD  CONSTRAINT [FK_EgzaminDyplomowy_Student] FOREIGN KEY([ID_Student])\r\n",
                "REFERENCES [dbo].[Student] ([ID_Student])\r\n",
                "GO\r\n",
                "ALTER TABLE [dbo].[EgzaminDyplomowy] CHECK CONSTRAINT [FK_EgzaminDyplomowy_Student]\r\n",
                "GO\r\n",
                "ALTER TABLE [dbo].[PracaDyplomowa]  WITH CHECK ADD  CONSTRAINT [FK_PracaDyplomowa_Pracownik] FOREIGN KEY([ID_Promotor])\r\n",
                "REFERENCES [dbo].[Pracownik] ([ID_Pracownik])\r\n",
                "GO\r\n",
                "ALTER TABLE [dbo].[PracaDyplomowa] CHECK CONSTRAINT [FK_PracaDyplomowa_Pracownik]\r\n",
                "GO\r\n",
                "ALTER TABLE [dbo].[PracaDyplomowa]  WITH CHECK ADD  CONSTRAINT [FK_PracaDyplomowa_TypStudiow] FOREIGN KEY([ID_TypStudiow])\r\n",
                "REFERENCES [dbo].[TypStudiow] ([ID_TypStudiow])\r\n",
                "GO\r\n",
                "ALTER TABLE [dbo].[PracaDyplomowa] CHECK CONSTRAINT [FK_PracaDyplomowa_TypStudiow]\r\n",
                "GO\r\n",
                "ALTER TABLE [dbo].[Pracownik]  WITH CHECK ADD  CONSTRAINT [FK_Pracownik_StopienNaukowy] FOREIGN KEY([ID_StopienNaukowy])\r\n",
                "REFERENCES [dbo].[StopienNaukowy] ([ID_StopienNaukowy])\r\n",
                "GO\r\n",
                "ALTER TABLE [dbo].[Pracownik] CHECK CONSTRAINT [FK_Pracownik_StopienNaukowy]\r\n",
                "GO\r\n",
                "ALTER TABLE [dbo].[Recenzja]  WITH CHECK ADD  CONSTRAINT [FK_Recenzja_PracaDyplomowa] FOREIGN KEY([ID_Praca])\r\n",
                "REFERENCES [dbo].[PracaDyplomowa] ([ID_Praca])\r\n",
                "GO\r\n",
                "ALTER TABLE [dbo].[Recenzja] CHECK CONSTRAINT [FK_Recenzja_PracaDyplomowa]\r\n",
                "GO\r\n",
                "ALTER TABLE [dbo].[Recenzja]  WITH CHECK ADD  CONSTRAINT [FK_Recenzja_Pracownik] FOREIGN KEY([ID_Recenzent])\r\n",
                "REFERENCES [dbo].[Pracownik] ([ID_Pracownik])\r\n",
                "GO\r\n",
                "ALTER TABLE [dbo].[Recenzja] CHECK CONSTRAINT [FK_Recenzja_Pracownik]\r\n",
                "GO\r\n",
                "ALTER TABLE [dbo].[SlowoKluczowe]  WITH CHECK ADD  CONSTRAINT [FK_SlowoKluczowe_PracaDyplomowa] FOREIGN KEY([ID_Praca])\r\n",
                "REFERENCES [dbo].[PracaDyplomowa] ([ID_Praca])\r\n",
                "GO\r\n",
                "ALTER TABLE [dbo].[SlowoKluczowe] CHECK CONSTRAINT [FK_SlowoKluczowe_PracaDyplomowa]\r\n",
                "GO\r\n",
                "ALTER TABLE [dbo].[SlowoKluczowe]  WITH CHECK ADD  CONSTRAINT [FK_SlowoKluczowe_Slownik] FOREIGN KEY([ID_Slowo])\r\n",
                "REFERENCES [dbo].[Slownik] ([ID_Slowo])\r\n",
                "GO\r\n",
                "ALTER TABLE [dbo].[SlowoKluczowe] CHECK CONSTRAINT [FK_SlowoKluczowe_Slownik]\r\n",
                "GO\r\n",
                "USE [master]\r\n",
                "GO\r\n",
                "ALTER DATABASE [PraceDyplomowe] SET  READ_WRITE \r\n",
                "GO\r\n",
                ""
            ],
            "metadata": {
                "azdata_cell_guid": "90e984cf-b49c-4d73-9fa2-c10b0dc76145",
                "tags": []
            },
            "outputs": [],
            "execution_count": null
        },
        {
            "cell_type": "markdown",
            "source": [
                "**Wprowadzenie przykładowych danych do tabel**"
            ],
            "metadata": {
                "azdata_cell_guid": "8366f57a-47cf-4ce5-87ff-f7039c360d60"
            },
            "attachments": {}
        },
        {
            "cell_type": "code",
            "source": [
                "USE [PraceDyplomowe]\r\n",
                "GO\r\n",
                "INSERT [dbo].[StopienNaukowy] ([ID_StopienNaukowy], [NazwaStopniaNaukowego]) VALUES (1, N'doktor')\r\n",
                "INSERT [dbo].[StopienNaukowy] ([ID_StopienNaukowy], [NazwaStopniaNaukowego]) VALUES (2, N'doktor habilitowany')\r\n",
                "INSERT [dbo].[StopienNaukowy] ([ID_StopienNaukowy], [NazwaStopniaNaukowego]) VALUES (3, N'profesor')\r\n",
                "INSERT [dbo].[Pracownik] ([ID_Pracownik], [ID_StopienNaukowy], [Imie], [Nazwisko], [Telefon], [Email]) VALUES (1, 1, N'Natan', N'Lis', NULL, NULL)\r\n",
                "INSERT [dbo].[Pracownik] ([ID_Pracownik], [ID_StopienNaukowy], [Imie], [Nazwisko], [Telefon], [Email]) VALUES (2, 1, N'Anastazy', N'Baran', NULL, N'anastazy.baran@pw.edu.pl')\r\n",
                "INSERT [dbo].[Pracownik] ([ID_Pracownik], [ID_StopienNaukowy], [Imie], [Nazwisko], [Telefon], [Email]) VALUES (3, 1, N'Gabriel', N'Krawczyk', 747465851, N'gabriel.krawczyk@pw.edu.pl')\r\n",
                "INSERT [dbo].[Pracownik] ([ID_Pracownik], [ID_StopienNaukowy], [Imie], [Nazwisko], [Telefon], [Email]) VALUES (4, 1, N'Florian', N'Michalak', 651377379, N'florian.michalak@pw.edu.pl')\r\n",
                "INSERT [dbo].[Pracownik] ([ID_Pracownik], [ID_StopienNaukowy], [Imie], [Nazwisko], [Telefon], [Email]) VALUES (5, 2, N'Maja', N'Rutkowska', 654146312, N'maja.rutkowska@pw.edu.pl')\r\n",
                "INSERT [dbo].[Pracownik] ([ID_Pracownik], [ID_StopienNaukowy], [Imie], [Nazwisko], [Telefon], [Email]) VALUES (6, 2, N'Alicja', N'Borkowska', 500462991, N'alicja.borkowska@pw.edu.pl')\r\n",
                "INSERT [dbo].[Pracownik] ([ID_Pracownik], [ID_StopienNaukowy], [Imie], [Nazwisko], [Telefon], [Email]) VALUES (7, 3, N'Wioletta', N'Kaczmarczyk', 971354332, N'wioletta.kaczmarczyk@pw.edu.pl')\r\n",
                "INSERT [dbo].[Pracownik] ([ID_Pracownik], [ID_StopienNaukowy], [Imie], [Nazwisko], [Telefon], [Email]) VALUES (8, 3, N'Florian', N'Malinowski', 741321450, N'florian.malinowski@pw.edu.pl')\r\n",
                "INSERT [dbo].[Pracownik] ([ID_Pracownik], [ID_StopienNaukowy], [Imie], [Nazwisko], [Telefon], [Email]) VALUES (9, 3, N'Leon', N'Szczepański', 560321004, N'leon.szczepanski@pw.edu.pl')\r\n",
                "INSERT [dbo].[Pracownik] ([ID_Pracownik], [ID_StopienNaukowy], [Imie], [Nazwisko], [Telefon], [Email]) VALUES (10, 2, N'Marlena', N'Makowska', 877621991, N'marlena.makowska@pw.edu.pl')\r\n",
                "INSERT [dbo].[Pracownik] ([ID_Pracownik], [ID_StopienNaukowy], [Imie], [Nazwisko], [Telefon], [Email]) VALUES (11, 2, N'Lidia', N'Ostrowska', NULL, N'lidia.ostrowska@pw.edu.pl')\r\n",
                "INSERT [dbo].[Pracownik] ([ID_Pracownik], [ID_StopienNaukowy], [Imie], [Nazwisko], [Telefon], [Email]) VALUES (12, 1, N'Aneta', N'Szulc', 664311943, N'aneta.szulc@pw.edu.pl')\r\n",
                "INSERT [dbo].[Pracownik] ([ID_Pracownik], [ID_StopienNaukowy], [Imie], [Nazwisko], [Telefon], [Email]) VALUES (13, 1, N'Ignacy', N'Bąk', NULL, N'ignacy.bak@pw.edu.pl')\r\n",
                "INSERT [dbo].[Pracownik] ([ID_Pracownik], [ID_StopienNaukowy], [Imie], [Nazwisko], [Telefon], [Email]) VALUES (14, 2, N'Henryk', N'Maciejewski', 874111030, N'henryk.majewski@pw.edu.pl')\r\n",
                "INSERT [dbo].[Pracownik] ([ID_Pracownik], [ID_StopienNaukowy], [Imie], [Nazwisko], [Telefon], [Email]) VALUES (15, 1, N'Mirosław', N'Sikorski', 744132999, N'miroslaw.sikorski@pw.edu.pl')\r\n",
                "INSERT [dbo].[Pracownik] ([ID_Pracownik], [ID_StopienNaukowy], [Imie], [Nazwisko], [Telefon], [Email]) VALUES (16, 3, N'Nina', N'Laskowska', 691358100, N'nina.laskowska@pw.edu.pl')\r\n",
                "INSERT [dbo].[Pracownik] ([ID_Pracownik], [ID_StopienNaukowy], [Imie], [Nazwisko], [Telefon], [Email]) VALUES (17, 2, N'Diana', N'Marciniak', 554631332, N'diana.marciniak@pw.edu.pl')\r\n",
                "INSERT [dbo].[TypStudiow] ([ID_TypStudiow], [NazwaTypuStudiow]) VALUES (1, N'inżynierskie')\r\n",
                "INSERT [dbo].[TypStudiow] ([ID_TypStudiow], [NazwaTypuStudiow]) VALUES (2, N'licencjackie')\r\n",
                "INSERT [dbo].[TypStudiow] ([ID_TypStudiow], [NazwaTypuStudiow]) VALUES (3, N'magisterskie')\r\n",
                "INSERT [dbo].[PracaDyplomowa] ([ID_Praca], [Temat], [ID_TypStudiow], [ID_Promotor], [DataZlozenia]) VALUES (1, N'Projekt aplikacji wspomagającej proces doboru pracownika – „która z osób będzie najlepszym kandydatem na informatyka?”', 3, 13, CAST(N'2021-10-10' AS Date))\r\n",
                "INSERT [dbo].[PracaDyplomowa] ([ID_Praca], [Temat], [ID_TypStudiow], [ID_Promotor], [DataZlozenia]) VALUES (2, N'Bezpieczeństwo informatyczne systemów operacyjnych stosowanych w elektroenergetyce', 3, 15, CAST(N'2021-11-10' AS Date))\r\n",
                "INSERT [dbo].[PracaDyplomowa] ([ID_Praca], [Temat], [ID_TypStudiow], [ID_Promotor], [DataZlozenia]) VALUES (3, N'System testowy dla układów automatyki opartych o komunikaty GOOSE', 1, 1, CAST(N'2013-11-19' AS Date))\r\n",
                "INSERT [dbo].[PracaDyplomowa] ([ID_Praca], [Temat], [ID_TypStudiow], [ID_Promotor], [DataZlozenia]) VALUES (4, N'Projekt i wykonanie plotera 2D wykorzystującego Raspberry Pi i silniki krokowe', 1, 7, CAST(N'2011-08-01' AS Date))\r\n",
                "INSERT [dbo].[PracaDyplomowa] ([ID_Praca], [Temat], [ID_TypStudiow], [ID_Promotor], [DataZlozenia]) VALUES (5, N'Analiza zanieczyszczenia światłem na terenie Warszawy w latach 2012-2021', 2, 11, CAST(N'2021-12-12' AS Date))\r\n",
                "INSERT [dbo].[PracaDyplomowa] ([ID_Praca], [Temat], [ID_TypStudiow], [ID_Promotor], [DataZlozenia]) VALUES (6, N'Sterowanie autonomicznej bezzałogowej łodzi podwodnej', 3, 14, CAST(N'2008-07-13' AS Date))\r\n",
                "INSERT [dbo].[PracaDyplomowa] ([ID_Praca], [Temat], [ID_TypStudiow], [ID_Promotor], [DataZlozenia]) VALUES (7, N'Mikroprocesorowy system informacyjny', 1, 11, CAST(N'2015-11-30' AS Date))\r\n",
                "INSERT [dbo].[PracaDyplomowa] ([ID_Praca], [Temat], [ID_TypStudiow], [ID_Promotor], [DataZlozenia]) VALUES (8, N'Moduł kondycjonowania sygnałów z interfejsem komputerowym', 2, 1, CAST(N'2019-03-11' AS Date))\r\n",
                "INSERT [dbo].[PracaDyplomowa] ([ID_Praca], [Temat], [ID_TypStudiow], [ID_Promotor], [DataZlozenia]) VALUES (9, N'Zastosowanie metod analizy korelacyjnej do eliminacji zakłóceń i szumów z sygnałów pomiarowych', 2, 17, CAST(N'2019-03-12' AS Date))\r\n",
                "INSERT [dbo].[PracaDyplomowa] ([ID_Praca], [Temat], [ID_TypStudiow], [ID_Promotor], [DataZlozenia]) VALUES (10, N'Sterownik silnika komutatorowego z korektorem współczynnika mocy', 1, 12, CAST(N'2020-04-12' AS Date))\r\n",
                "INSERT [dbo].[PracaDyplomowa] ([ID_Praca], [Temat], [ID_TypStudiow], [ID_Promotor], [DataZlozenia]) VALUES (11, N'Model wyłącznika wysokonapięciowego', 3, 16, CAST(N'2011-01-20' AS Date))\r\n",
                "INSERT [dbo].[PracaDyplomowa] ([ID_Praca], [Temat], [ID_TypStudiow], [ID_Promotor], [DataZlozenia]) VALUES (12, N'Symulator - optymalizacja rojem cząstek', 3, 16, CAST(N'2011-02-11' AS Date))\r\n",
                "INSERT [dbo].[PracaDyplomowa] ([ID_Praca], [Temat], [ID_TypStudiow], [ID_Promotor], [DataZlozenia]) VALUES (13, N'Projekt wysokonapięciowego sterowanego iskiernika do pracy w układzie generatora prądowego', 1, 3, CAST(N'2014-04-04' AS Date))\r\n",
                "INSERT [dbo].[PracaDyplomowa] ([ID_Praca], [Temat], [ID_TypStudiow], [ID_Promotor], [DataZlozenia]) VALUES (14, N'Zastosowanie superkondensatorów do generowania udarów prądowych', 1, 3, CAST(N'2014-09-04' AS Date))\r\n",
                "INSERT [dbo].[PracaDyplomowa] ([ID_Praca], [Temat], [ID_TypStudiow], [ID_Promotor], [DataZlozenia]) VALUES (15, N'Metody analizy dokładności wyników pomiarów w systemach z numerycznym przetwarzaniem danych', 1, 2, CAST(N'2017-09-14' AS Date))\r\n",
                "INSERT [dbo].[PracaDyplomowa] ([ID_Praca], [Temat], [ID_TypStudiow], [ID_Promotor], [DataZlozenia]) VALUES (16, N'Trójwymiarowe obiekty w przeglądarce', 1, 4, CAST(N'2017-09-15' AS Date))\r\n",
                "INSERT [dbo].[Recenzja] ([ID_Recenzja], [ID_Praca], [ID_Recenzent], [Ocena], [Komentarz]) VALUES (1, 16, 7, 5, N'Praca wyczerpuje temat.')\r\n",
                "INSERT [dbo].[Recenzja] ([ID_Recenzja], [ID_Praca], [ID_Recenzent], [Ocena], [Komentarz]) VALUES (2, 15, 8, 4, N'Drobne błędy.')\r\n",
                "INSERT [dbo].[Recenzja] ([ID_Recenzja], [ID_Praca], [ID_Recenzent], [Ocena], [Komentarz]) VALUES (3, 14, 9, 3, N'Praca poprawna.')\r\n",
                "INSERT [dbo].[Recenzja] ([ID_Recenzja], [ID_Praca], [ID_Recenzent], [Ocena], [Komentarz]) VALUES (4, 13, 1, 3, N'Praca poprawna.')\r\n",
                "INSERT [dbo].[Recenzja] ([ID_Recenzja], [ID_Praca], [ID_Recenzent], [Ocena], [Komentarz]) VALUES (5, 12, 2, 3, N'Praca poprawna.')\r\n",
                "INSERT [dbo].[Recenzja] ([ID_Recenzja], [ID_Praca], [ID_Recenzent], [Ocena], [Komentarz]) VALUES (6, 11, 3, 5, N'Bardzo dobrze.')\r\n",
                "INSERT [dbo].[Recenzja] ([ID_Recenzja], [ID_Praca], [ID_Recenzent], [Ocena], [Komentarz]) VALUES (7, 10, 4, 5, N'Bardzo dobrze.')\r\n",
                "INSERT [dbo].[Recenzja] ([ID_Recenzja], [ID_Praca], [ID_Recenzent], [Ocena], [Komentarz]) VALUES (8, 9, 5, 4, N'Drobne błędy.')\r\n",
                "INSERT [dbo].[Recenzja] ([ID_Recenzja], [ID_Praca], [ID_Recenzent], [Ocena], [Komentarz]) VALUES (9, 8, 11, 5, N'Bardzo dobrze.')\r\n",
                "INSERT [dbo].[Recenzja] ([ID_Recenzja], [ID_Praca], [ID_Recenzent], [Ocena], [Komentarz]) VALUES (10, 7, 17, 3, N'Praca dostateczna.')\r\n",
                "INSERT [dbo].[Recenzja] ([ID_Recenzja], [ID_Praca], [ID_Recenzent], [Ocena], [Komentarz]) VALUES (11, 6, 11, 4, N'Dobrze.')\r\n",
                "INSERT [dbo].[Recenzja] ([ID_Recenzja], [ID_Praca], [ID_Recenzent], [Ocena], [Komentarz]) VALUES (12, 5, 15, 4, N'Dobrze.')\r\n",
                "INSERT [dbo].[Student] ([ID_Student], [Imie], [Nazwisko], [Telefon], [Email]) VALUES (1000000001, N'Antoni', N'Nowak', 777555111, N'antoni.nowak@pw.edu.pl')\r\n",
                "INSERT [dbo].[Student] ([ID_Student], [Imie], [Nazwisko], [Telefon], [Email]) VALUES (1000000002, N'Andrzej', N'Kowalski', 789123456, N'andrzej.kowalski@pw.edu.pl')\r\n",
                "INSERT [dbo].[Student] ([ID_Student], [Imie], [Nazwisko], [Telefon], [Email]) VALUES (1000000003, N'Adrian', N'Wiśniewski', 444678123, N'adrian.wisniewski@pw.edu.pl')\r\n",
                "INSERT [dbo].[Student] ([ID_Student], [Imie], [Nazwisko], [Telefon], [Email]) VALUES (1000000004, N'Anna', N'Wójcik', 789321668, N'anna.wojcik@pw.edu.pl')\r\n",
                "INSERT [dbo].[Student] ([ID_Student], [Imie], [Nazwisko], [Telefon], [Email]) VALUES (1000000005, N'Agnieszka', N'Kowalczyk', 951357657, N'agnieszka.kowalczyk@pw.edu.pl')\r\n",
                "INSERT [dbo].[Student] ([ID_Student], [Imie], [Nazwisko], [Telefon], [Email]) VALUES (1000000006, N'Adam', N'Kowalczyk', 787326981, N'adam.kowalczyk@pw.edu.pl')\r\n",
                "INSERT [dbo].[Student] ([ID_Student], [Imie], [Nazwisko], [Telefon], [Email]) VALUES (1000000007, N'Alina', N'Kamińska', 798743211, N'alina.kaminska@pw.edu.pl')\r\n",
                "INSERT [dbo].[Student] ([ID_Student], [Imie], [Nazwisko], [Telefon], [Email]) VALUES (1000000008, N'Apoloniusz', N'Lawendowski', NULL, N'apoloniusz.lawendowski@pw.edu.pl')\r\n",
                "INSERT [dbo].[Student] ([ID_Student], [Imie], [Nazwisko], [Telefon], [Email]) VALUES (1000000009, N'Agata', N'Dąbrowska', 785231458, NULL)\r\n",
                "INSERT [dbo].[Student] ([ID_Student], [Imie], [Nazwisko], [Telefon], [Email]) VALUES (1000000010, N'Adela', N'Zielińska', 789321456, N'adela.zielinska@pw.edu.pl')\r\n",
                "INSERT [dbo].[Student] ([ID_Student], [Imie], [Nazwisko], [Telefon], [Email]) VALUES (1000000011, N'Szymon', N'Szymański', 777321645, NULL)\r\n",
                "INSERT [dbo].[Student] ([ID_Student], [Imie], [Nazwisko], [Telefon], [Email]) VALUES (1000000012, N'Aleksander', N'Woźniak', 741852963, N'aleksander.wozniak@pw.edu.pl')\r\n",
                "INSERT [dbo].[Student] ([ID_Student], [Imie], [Nazwisko], [Telefon], [Email]) VALUES (1000000013, N'Aurelia', N'Kozłowska', 852951357, N'aurelia.kozlowska@pw.edu.pl')\r\n",
                "INSERT [dbo].[Student] ([ID_Student], [Imie], [Nazwisko], [Telefon], [Email]) VALUES (1000000014, N'Augustyn', N'Jankowski', 321951741, N'augustyn.janowski@pw.edu.pl')\r\n",
                "INSERT [dbo].[Student] ([ID_Student], [Imie], [Nazwisko], [Telefon], [Email]) VALUES (1000000015, N'Artur', N'Wojciechowski', 159459369, N'artur.wojciechowski@pw.edu.pl')\r\n",
                "INSERT [dbo].[Student] ([ID_Student], [Imie], [Nazwisko], [Telefon], [Email]) VALUES (1000000016, N'Artur', N'Mazur', NULL, N'artur.mazur@pw.edu.pl')\r\n",
                "INSERT [dbo].[Student] ([ID_Student], [Imie], [Nazwisko], [Telefon], [Email]) VALUES (1000000017, N'Maria', N'Kwiatkowska', 153595754, N'maria.kwiatkowska@pw.edu.pl')\r\n",
                "INSERT [dbo].[Student] ([ID_Student], [Imie], [Nazwisko], [Telefon], [Email]) VALUES (1000000018, N'Katarzyna', N'Krawczyk', 353651971, N'katarzyna.krawczyk@pw.edu.pl')\r\n",
                "INSERT [dbo].[Student] ([ID_Student], [Imie], [Nazwisko], [Telefon], [Email]) VALUES (1000000019, N'Barbara', N'Chmielewska', 987123465, N'barbara.chmielewska@pw.edu.pl')\r\n",
                "INSERT [dbo].[Student] ([ID_Student], [Imie], [Nazwisko], [Telefon], [Email]) VALUES (1000000020, N'Kazimierz', N'Kozak', 777124655, N'kazimierz.kozak@pw.edu.pl')\r\n",
                "INSERT [dbo].[MiejsceObrony] ([ID_Miejsce], [Budynek], [Sala]) VALUES (1, N'Gmach Główny', N'112')\r\n",
                "INSERT [dbo].[MiejsceObrony] ([ID_Miejsce], [Budynek], [Sala]) VALUES (2, N'Gmach Główny', N'114')\r\n",
                "INSERT [dbo].[MiejsceObrony] ([ID_Miejsce], [Budynek], [Sala]) VALUES (3, N'Gmach Główny', N'116')\r\n",
                "INSERT [dbo].[MiejsceObrony] ([ID_Miejsce], [Budynek], [Sala]) VALUES (4, N'Gmach Główny ', N'202')\r\n",
                "INSERT [dbo].[MiejsceObrony] ([ID_Miejsce], [Budynek], [Sala]) VALUES (5, N'Gmach Główny', N'208')\r\n",
                "INSERT [dbo].[MiejsceObrony] ([ID_Miejsce], [Budynek], [Sala]) VALUES (6, N'Gmach Główny', N'301a')\r\n",
                "INSERT [dbo].[MiejsceObrony] ([ID_Miejsce], [Budynek], [Sala]) VALUES (7, N'Gmach Lotniczy', N'14b')\r\n",
                "INSERT [dbo].[MiejsceObrony] ([ID_Miejsce], [Budynek], [Sala]) VALUES (8, N'Gmach Lotniczy', N'15')\r\n",
                "INSERT [dbo].[MiejsceObrony] ([ID_Miejsce], [Budynek], [Sala]) VALUES (9, N'Gmach Lotniczy', N'21')\r\n",
                "INSERT [dbo].[MiejsceObrony] ([ID_Miejsce], [Budynek], [Sala]) VALUES (10, N'Gmach Fizyki', N'9')\r\n",
                "INSERT [dbo].[MiejsceObrony] ([ID_Miejsce], [Budynek], [Sala]) VALUES (11, N'Gmach Fizyki', N'19')\r\n",
                "INSERT [dbo].[MiejsceObrony] ([ID_Miejsce], [Budynek], [Sala]) VALUES (12, N'Gmach Fizyki', N'1')\r\n",
                "INSERT [dbo].[MiejsceObrony] ([ID_Miejsce], [Budynek], [Sala]) VALUES (13, N'Gmach Mechaniki', N'101')\r\n",
                "INSERT [dbo].[MiejsceObrony] ([ID_Miejsce], [Budynek], [Sala]) VALUES (14, N'Gmach Mechaniki', N'102')\r\n",
                "INSERT [dbo].[MiejsceObrony] ([ID_Miejsce], [Budynek], [Sala]) VALUES (15, N'Gmach Mechaniki', N'103')\r\n",
                "INSERT [dbo].[MiejsceObrony] ([ID_Miejsce], [Budynek], [Sala]) VALUES (16, N'Gmach Mechaniki 105', N'105')\r\n",
                "INSERT [dbo].[EgzaminDyplomowy] ([ID_EgzaminDyplomowy], [ID_Student], [ID_Praca], [ID_Miejsce], [ID_Przewodniczacy], [Data], [OcenaKoncowa]) VALUES (1, 1000000005, 3, 4, 5, CAST(N'2019-01-12' AS Date), 5)\r\n",
                "INSERT [dbo].[EgzaminDyplomowy] ([ID_EgzaminDyplomowy], [ID_Student], [ID_Praca], [ID_Miejsce], [ID_Przewodniczacy], [Data], [OcenaKoncowa]) VALUES (2, 1000000006, 4, 5, 1, CAST(N'2019-02-12' AS Date), 5)\r\n",
                "INSERT [dbo].[EgzaminDyplomowy] ([ID_EgzaminDyplomowy], [ID_Student], [ID_Praca], [ID_Miejsce], [ID_Przewodniczacy], [Data], [OcenaKoncowa]) VALUES (3, 1000000007, 12, 3, 3, CAST(N'2019-03-12' AS Date), 4)\r\n",
                "INSERT [dbo].[EgzaminDyplomowy] ([ID_EgzaminDyplomowy], [ID_Student], [ID_Praca], [ID_Miejsce], [ID_Przewodniczacy], [Data], [OcenaKoncowa]) VALUES (4, 1000000008, 11, 3, 2, CAST(N'2019-04-12' AS Date), 5)\r\n",
                "INSERT [dbo].[EgzaminDyplomowy] ([ID_EgzaminDyplomowy], [ID_Student], [ID_Praca], [ID_Miejsce], [ID_Przewodniczacy], [Data], [OcenaKoncowa]) VALUES (5, 1000000009, 10, 2, 2, CAST(N'2019-05-12' AS Date), 5)\r\n",
                "INSERT [dbo].[EgzaminDyplomowy] ([ID_EgzaminDyplomowy], [ID_Student], [ID_Praca], [ID_Miejsce], [ID_Przewodniczacy], [Data], [OcenaKoncowa]) VALUES (6, 1000000010, 9, 14, 14, CAST(N'2019-06-14' AS Date), 3)\r\n",
                "INSERT [dbo].[EgzaminDyplomowy] ([ID_EgzaminDyplomowy], [ID_Student], [ID_Praca], [ID_Miejsce], [ID_Przewodniczacy], [Data], [OcenaKoncowa]) VALUES (7, 1000000011, 8, 13, 13, CAST(N'2019-07-11' AS Date), 4)\r\n",
                "INSERT [dbo].[EgzaminDyplomowy] ([ID_EgzaminDyplomowy], [ID_Student], [ID_Praca], [ID_Miejsce], [ID_Przewodniczacy], [Data], [OcenaKoncowa]) VALUES (8, 1000000012, 7, 3, 17, CAST(N'2019-07-14' AS Date), 5)\r\n",
                "INSERT [dbo].[EgzaminDyplomowy] ([ID_EgzaminDyplomowy], [ID_Student], [ID_Praca], [ID_Miejsce], [ID_Przewodniczacy], [Data], [OcenaKoncowa]) VALUES (9, 1000000013, 13, 1, 1, CAST(N'2019-09-30' AS Date), 3)\r\n",
                "INSERT [dbo].[EgzaminDyplomowy] ([ID_EgzaminDyplomowy], [ID_Student], [ID_Praca], [ID_Miejsce], [ID_Przewodniczacy], [Data], [OcenaKoncowa]) VALUES (10, 1000000014, 14, 9, 7, CAST(N'2019-10-11' AS Date), 5)\r\n",
                "INSERT [dbo].[EgzaminDyplomowy] ([ID_EgzaminDyplomowy], [ID_Student], [ID_Praca], [ID_Miejsce], [ID_Przewodniczacy], [Data], [OcenaKoncowa]) VALUES (11, 1000000015, 15, 12, 9, CAST(N'2020-01-05' AS Date), 4)\r\n",
                "INSERT [dbo].[EgzaminDyplomowy] ([ID_EgzaminDyplomowy], [ID_Student], [ID_Praca], [ID_Miejsce], [ID_Przewodniczacy], [Data], [OcenaKoncowa]) VALUES (12, 1000000016, 16, 7, 15, CAST(N'2020-02-03' AS Date), 5)\r\n",
                "INSERT [dbo].[Slownik] ([ID_Slowo], [NazwaSlowaKluczowego]) VALUES (1, N'informatyka')\r\n",
                "INSERT [dbo].[Slownik] ([ID_Slowo], [NazwaSlowaKluczowego]) VALUES (2, N'telekomunikacja')\r\n",
                "INSERT [dbo].[Slownik] ([ID_Slowo], [NazwaSlowaKluczowego]) VALUES (3, N'automatyka')\r\n",
                "INSERT [dbo].[Slownik] ([ID_Slowo], [NazwaSlowaKluczowego]) VALUES (4, N'energetyka')\r\n",
                "INSERT [dbo].[Slownik] ([ID_Slowo], [NazwaSlowaKluczowego]) VALUES (5, N'transport')\r\n",
                "INSERT [dbo].[Slownik] ([ID_Slowo], [NazwaSlowaKluczowego]) VALUES (6, N'algorytmy')\r\n",
                "INSERT [dbo].[Slownik] ([ID_Slowo], [NazwaSlowaKluczowego]) VALUES (7, N'internet')\r\n",
                "INSERT [dbo].[Slownik] ([ID_Slowo], [NazwaSlowaKluczowego]) VALUES (8, N'sztuczna inteligencja')\r\n",
                "INSERT [dbo].[Slownik] ([ID_Slowo], [NazwaSlowaKluczowego]) VALUES (9, N'programowanie')\r\n",
                "INSERT [dbo].[Slownik] ([ID_Slowo], [NazwaSlowaKluczowego]) VALUES (10, N'bazy danych')\r\n",
                "INSERT [dbo].[Slownik] ([ID_Slowo], [NazwaSlowaKluczowego]) VALUES (11, N'systemy operacyjne')\r\n",
                "INSERT [dbo].[Slownik] ([ID_Slowo], [NazwaSlowaKluczowego]) VALUES (12, N'cyberbezpieczeństwo')\r\n",
                "INSERT [dbo].[Slownik] ([ID_Slowo], [NazwaSlowaKluczowego]) VALUES (13, N'mikroporcesory')\r\n",
                "INSERT [dbo].[Slownik] ([ID_Slowo], [NazwaSlowaKluczowego]) VALUES (14, N'sieci komputerowe')\r\n",
                "INSERT [dbo].[Slownik] ([ID_Slowo], [NazwaSlowaKluczowego]) VALUES (15, N'struktury dancyh')\r\n",
                "INSERT [dbo].[Slownik] ([ID_Slowo], [NazwaSlowaKluczowego]) VALUES (16, N'elektronika')\r\n",
                "INSERT [dbo].[Slownik] ([ID_Slowo], [NazwaSlowaKluczowego]) VALUES (17, N'elektrotechnika')\r\n",
                "INSERT [dbo].[Slownik] ([ID_Slowo], [NazwaSlowaKluczowego]) VALUES (18, N'grafika komputerowa')\r\n",
                "INSERT [dbo].[Slownik] ([ID_Slowo], [NazwaSlowaKluczowego]) VALUES (19, N'grafika inżynierska')\r\n",
                "INSERT [dbo].[Slownik] ([ID_Slowo], [NazwaSlowaKluczowego]) VALUES (20, N'bezpieczeństwo danych')\r\n",
                "INSERT [dbo].[Slownik] ([ID_Slowo], [NazwaSlowaKluczowego]) VALUES (21, N'bezpieczeństwo systemów')\r\n",
                "INSERT [dbo].[Slownik] ([ID_Slowo], [NazwaSlowaKluczowego]) VALUES (22, N'układy scalone')\r\n",
                "INSERT [dbo].[SlowoKluczowe] ([ID_SlowoKluczowe], [ID_Praca], [ID_Slowo]) VALUES (1, 1, 22)\r\n",
                "INSERT [dbo].[SlowoKluczowe] ([ID_SlowoKluczowe], [ID_Praca], [ID_Slowo]) VALUES (2, 5, 19)\r\n",
                "INSERT [dbo].[SlowoKluczowe] ([ID_SlowoKluczowe], [ID_Praca], [ID_Slowo]) VALUES (3, 3, 20)\r\n",
                "INSERT [dbo].[SlowoKluczowe] ([ID_SlowoKluczowe], [ID_Praca], [ID_Slowo]) VALUES (4, 4, 19)\r\n",
                "INSERT [dbo].[SlowoKluczowe] ([ID_SlowoKluczowe], [ID_Praca], [ID_Slowo]) VALUES (5, 11, 16)\r\n",
                "INSERT [dbo].[SlowoKluczowe] ([ID_SlowoKluczowe], [ID_Praca], [ID_Slowo]) VALUES (6, 12, 15)\r\n",
                "INSERT [dbo].[SlowoKluczowe] ([ID_SlowoKluczowe], [ID_Praca], [ID_Slowo]) VALUES (7, 13, 14)\r\n",
                "INSERT [dbo].[SlowoKluczowe] ([ID_SlowoKluczowe], [ID_Praca], [ID_Slowo]) VALUES (8, 15, 11)\r\n",
                "INSERT [dbo].[SlowoKluczowe] ([ID_SlowoKluczowe], [ID_Praca], [ID_Slowo]) VALUES (9, 14, 12)\r\n",
                "INSERT [dbo].[SlowoKluczowe] ([ID_SlowoKluczowe], [ID_Praca], [ID_Slowo]) VALUES (10, 16, 1)\r\n",
                "\r\n",
                ""
            ],
            "metadata": {
                "azdata_cell_guid": "d9df4446-7733-44ae-a3ff-a59d89601134",
                "tags": [
                    "hide_input"
                ]
            },
            "outputs": [],
            "execution_count": null
        },
        {
            "cell_type": "markdown",
            "source": [
                "**KWERENDY**"
            ],
            "metadata": {
                "azdata_cell_guid": "47a47d04-13fa-4e5f-8dca-b0884e219a48"
            },
            "attachments": {}
        },
        {
            "cell_type": "markdown",
            "source": [
                "1\\. Uzyskanie informacji (imię, nazwisko, nr indeksu) na temat wszystkich studentów uporządkowanych w kolejności alfabetycznej nazwiska"
            ],
            "metadata": {
                "azdata_cell_guid": "15c6c11d-69cf-4bbc-88c9-d33b6e79b94a"
            },
            "attachments": {}
        },
        {
            "cell_type": "code",
            "source": [
                "SELECT  Imie, Nazwisko, ID_Student FROM dbo.Student ORDER BY Nazwisko ASC"
            ],
            "metadata": {
                "azdata_cell_guid": "34d67632-d26d-4969-ab88-4c3be1e43fa9",
                "tags": []
            },
            "outputs": [
                {
                    "output_type": "display_data",
                    "data": {
                        "text/html": "(20 rows affected)"
                    },
                    "metadata": {}
                },
                {
                    "output_type": "display_data",
                    "data": {
                        "text/html": "Total execution time: 00:00:00.073"
                    },
                    "metadata": {}
                },
                {
                    "output_type": "execute_result",
                    "execution_count": 1,
                    "data": {
                        "application/vnd.dataresource+json": {
                            "schema": {
                                "fields": [
                                    {
                                        "name": "Imie"
                                    },
                                    {
                                        "name": "Nazwisko"
                                    },
                                    {
                                        "name": "ID_Student"
                                    }
                                ]
                            },
                            "data": [
                                {
                                    "0": "Barbara",
                                    "1": "Chmielewska",
                                    "2": "1000000019"
                                },
                                {
                                    "0": "Agata",
                                    "1": "Dąbrowska",
                                    "2": "1000000009"
                                },
                                {
                                    "0": "Augustyn",
                                    "1": "Jankowski",
                                    "2": "1000000014"
                                },
                                {
                                    "0": "Alina",
                                    "1": "Kamińska",
                                    "2": "1000000007"
                                },
                                {
                                    "0": "Agnieszka",
                                    "1": "Kowalczyk",
                                    "2": "1000000005"
                                },
                                {
                                    "0": "Adam",
                                    "1": "Kowalczyk",
                                    "2": "1000000006"
                                },
                                {
                                    "0": "Andrzej",
                                    "1": "Kowalski",
                                    "2": "1000000002"
                                },
                                {
                                    "0": "Kazimierz",
                                    "1": "Kozak",
                                    "2": "1000000020"
                                },
                                {
                                    "0": "Aurelia",
                                    "1": "Kozłowska",
                                    "2": "1000000013"
                                },
                                {
                                    "0": "Katarzyna",
                                    "1": "Krawczyk",
                                    "2": "1000000018"
                                },
                                {
                                    "0": "Maria",
                                    "1": "Kwiatkowska",
                                    "2": "1000000017"
                                },
                                {
                                    "0": "Apoloniusz",
                                    "1": "Lawendowski",
                                    "2": "1000000008"
                                },
                                {
                                    "0": "Artur",
                                    "1": "Mazur",
                                    "2": "1000000016"
                                },
                                {
                                    "0": "Antoni",
                                    "1": "Nowak",
                                    "2": "1000000001"
                                },
                                {
                                    "0": "Szymon",
                                    "1": "Szymański",
                                    "2": "1000000011"
                                },
                                {
                                    "0": "Adrian",
                                    "1": "Wiśniewski",
                                    "2": "1000000003"
                                },
                                {
                                    "0": "Artur",
                                    "1": "Wojciechowski",
                                    "2": "1000000015"
                                },
                                {
                                    "0": "Aleksander",
                                    "1": "Woźniak",
                                    "2": "1000000012"
                                },
                                {
                                    "0": "Anna",
                                    "1": "Wójcik",
                                    "2": "1000000004"
                                },
                                {
                                    "0": "Adela",
                                    "1": "Zielińska",
                                    "2": "1000000010"
                                }
                            ]
                        },
                        "text/html": "<table><tr><th>Imie</th><th>Nazwisko</th><th>ID_Student</th></tr><tr><td>Barbara</td><td>Chmielewska</td><td>1000000019</td></tr><tr><td>Agata</td><td>Dąbrowska</td><td>1000000009</td></tr><tr><td>Augustyn</td><td>Jankowski</td><td>1000000014</td></tr><tr><td>Alina</td><td>Kamińska</td><td>1000000007</td></tr><tr><td>Agnieszka</td><td>Kowalczyk</td><td>1000000005</td></tr><tr><td>Adam</td><td>Kowalczyk</td><td>1000000006</td></tr><tr><td>Andrzej</td><td>Kowalski</td><td>1000000002</td></tr><tr><td>Kazimierz</td><td>Kozak</td><td>1000000020</td></tr><tr><td>Aurelia</td><td>Kozłowska</td><td>1000000013</td></tr><tr><td>Katarzyna</td><td>Krawczyk</td><td>1000000018</td></tr><tr><td>Maria</td><td>Kwiatkowska</td><td>1000000017</td></tr><tr><td>Apoloniusz</td><td>Lawendowski</td><td>1000000008</td></tr><tr><td>Artur</td><td>Mazur</td><td>1000000016</td></tr><tr><td>Antoni</td><td>Nowak</td><td>1000000001</td></tr><tr><td>Szymon</td><td>Szymański</td><td>1000000011</td></tr><tr><td>Adrian</td><td>Wiśniewski</td><td>1000000003</td></tr><tr><td>Artur</td><td>Wojciechowski</td><td>1000000015</td></tr><tr><td>Aleksander</td><td>Woźniak</td><td>1000000012</td></tr><tr><td>Anna</td><td>Wójcik</td><td>1000000004</td></tr><tr><td>Adela</td><td>Zielińska</td><td>1000000010</td></tr></table>"
                    },
                    "metadata": {}
                }
            ],
            "execution_count": 1
        },
        {
            "cell_type": "markdown",
            "source": [
                "2\\. Informacje na temat wszystkich pracowników (tytuł, imię, nazwisko) uporządkowane w kolejności alfabetycznej nazwiska; (zakładamy że pracownikiem jest osoba z tytułem naukowym - lista pracowników tylko z tytułem)"
            ],
            "metadata": {
                "azdata_cell_guid": "bf93fc88-23c6-476a-a1ec-be9540f36ee5"
            },
            "attachments": {}
        },
        {
            "cell_type": "code",
            "source": [
                "SELECT StopienNaukowy.NazwaStopniaNaukowego AS 'Tytuł',\r\n",
                " Pracownik.Imie, \r\n",
                " Pracownik.Nazwisko\r\n",
                "\r\n",
                "FROM Pracownik\r\n",
                "RIGHT JOIN StopienNaukowy ON StopienNaukowy.ID_StopienNaukowy = Pracownik.ID_StopienNaukowy\r\n",
                "ORDER BY Pracownik.Nazwisko ASC\r\n",
                ""
            ],
            "metadata": {
                "azdata_cell_guid": "f7d3041e-d058-4c47-8e11-1e6ced8dd17b"
            },
            "outputs": [
                {
                    "output_type": "display_data",
                    "data": {
                        "text/html": "(17 rows affected)"
                    },
                    "metadata": {}
                },
                {
                    "output_type": "display_data",
                    "data": {
                        "text/html": "Total execution time: 00:00:00.003"
                    },
                    "metadata": {}
                },
                {
                    "output_type": "execute_result",
                    "execution_count": 4,
                    "data": {
                        "application/vnd.dataresource+json": {
                            "schema": {
                                "fields": [
                                    {
                                        "name": "Tytuł"
                                    },
                                    {
                                        "name": "Imie"
                                    },
                                    {
                                        "name": "Nazwisko"
                                    }
                                ]
                            },
                            "data": [
                                {
                                    "0": "doktor",
                                    "1": "Anastazy",
                                    "2": "Baran"
                                },
                                {
                                    "0": "doktor",
                                    "1": "Ignacy",
                                    "2": "Bąk"
                                },
                                {
                                    "0": "doktor habilitowany",
                                    "1": "Alicja",
                                    "2": "Borkowska"
                                },
                                {
                                    "0": "profesor",
                                    "1": "Wioletta",
                                    "2": "Kaczmarczyk"
                                },
                                {
                                    "0": "doktor",
                                    "1": "Gabriel",
                                    "2": "Krawczyk"
                                },
                                {
                                    "0": "profesor",
                                    "1": "Nina",
                                    "2": "Laskowska"
                                },
                                {
                                    "0": "doktor",
                                    "1": "Natan",
                                    "2": "Lis"
                                },
                                {
                                    "0": "doktor habilitowany",
                                    "1": "Henryk",
                                    "2": "Maciejewski"
                                },
                                {
                                    "0": "doktor habilitowany",
                                    "1": "Marlena",
                                    "2": "Makowska"
                                },
                                {
                                    "0": "profesor",
                                    "1": "Florian",
                                    "2": "Malinowski"
                                },
                                {
                                    "0": "doktor habilitowany",
                                    "1": "Diana",
                                    "2": "Marciniak"
                                },
                                {
                                    "0": "doktor",
                                    "1": "Florian",
                                    "2": "Michalak"
                                },
                                {
                                    "0": "doktor habilitowany",
                                    "1": "Lidia",
                                    "2": "Ostrowska"
                                },
                                {
                                    "0": "doktor habilitowany",
                                    "1": "Maja",
                                    "2": "Rutkowska"
                                },
                                {
                                    "0": "doktor",
                                    "1": "Mirosław",
                                    "2": "Sikorski"
                                },
                                {
                                    "0": "profesor",
                                    "1": "Leon",
                                    "2": "Szczepański"
                                },
                                {
                                    "0": "doktor",
                                    "1": "Aneta",
                                    "2": "Szulc"
                                }
                            ]
                        },
                        "text/html": "<table><tr><th>Tytuł</th><th>Imie</th><th>Nazwisko</th></tr><tr><td>doktor</td><td>Anastazy</td><td>Baran</td></tr><tr><td>doktor</td><td>Ignacy</td><td>Bąk</td></tr><tr><td>doktor habilitowany</td><td>Alicja</td><td>Borkowska</td></tr><tr><td>profesor</td><td>Wioletta</td><td>Kaczmarczyk</td></tr><tr><td>doktor</td><td>Gabriel</td><td>Krawczyk</td></tr><tr><td>profesor</td><td>Nina</td><td>Laskowska</td></tr><tr><td>doktor</td><td>Natan</td><td>Lis</td></tr><tr><td>doktor habilitowany</td><td>Henryk</td><td>Maciejewski</td></tr><tr><td>doktor habilitowany</td><td>Marlena</td><td>Makowska</td></tr><tr><td>profesor</td><td>Florian</td><td>Malinowski</td></tr><tr><td>doktor habilitowany</td><td>Diana</td><td>Marciniak</td></tr><tr><td>doktor</td><td>Florian</td><td>Michalak</td></tr><tr><td>doktor habilitowany</td><td>Lidia</td><td>Ostrowska</td></tr><tr><td>doktor habilitowany</td><td>Maja</td><td>Rutkowska</td></tr><tr><td>doktor</td><td>Mirosław</td><td>Sikorski</td></tr><tr><td>profesor</td><td>Leon</td><td>Szczepański</td></tr><tr><td>doktor</td><td>Aneta</td><td>Szulc</td></tr></table>"
                    },
                    "metadata": {}
                }
            ],
            "execution_count": 4
        },
        {
            "cell_type": "markdown",
            "source": [
                "3\\. Uzyskanie listy wszystkich prowadzonych (przed złożeniem) prac dyplomowych uporządkowane według tematu."
            ],
            "metadata": {
                "azdata_cell_guid": "28596573-6a50-449a-890c-fbb0025394c3"
            },
            "attachments": {}
        },
        {
            "cell_type": "code",
            "source": [
                "SELECT PracaDyplomowa.Temat AS 'Temat pracy dyplomowej'\r\n",
                "\r\n",
                "FROM\r\n",
                "PracaDyplomowa\r\n",
                "WHERE PracaDyplomowa.DataZlozenia IS NULL\r\n",
                "ORDER BY PracaDyplomowa.Temat ASC"
            ],
            "metadata": {
                "azdata_cell_guid": "3f50d4fa-193c-47fb-a704-b023b0b50ef8",
                "tags": []
            },
            "outputs": [
                {
                    "output_type": "display_data",
                    "data": {
                        "text/html": "(2 rows affected)"
                    },
                    "metadata": {}
                },
                {
                    "output_type": "display_data",
                    "data": {
                        "text/html": "Total execution time: 00:00:00.002"
                    },
                    "metadata": {}
                },
                {
                    "output_type": "execute_result",
                    "execution_count": 15,
                    "data": {
                        "application/vnd.dataresource+json": {
                            "schema": {
                                "fields": [
                                    {
                                        "name": "Temat pracy dyplomowej"
                                    }
                                ]
                            },
                            "data": [
                                {
                                    "0": "Aplikacja mobilna wspierająca pracę przedstawicieli handlowych."
                                },
                                {
                                    "0": "Projekt bazy danych dla sieci prywatnych ośrodków zdrowia."
                                }
                            ]
                        },
                        "text/html": "<table><tr><th>Temat pracy dyplomowej</th></tr><tr><td>Aplikacja mobilna wspierająca pracę przedstawicieli handlowych.</td></tr><tr><td>Projekt bazy danych dla sieci prywatnych ośrodków zdrowia.</td></tr></table>"
                    },
                    "metadata": {}
                }
            ],
            "execution_count": 15
        },
        {
            "cell_type": "markdown",
            "source": [
                "4\\. Uzyskanie informacji o wszystkich pracach uporządkowanych według daty obrony"
            ],
            "metadata": {
                "azdata_cell_guid": "e524db93-e08b-4313-afa7-428e92864651"
            },
            "attachments": {}
        },
        {
            "cell_type": "code",
            "source": [
                "SELECT \r\n",
                "PracaDyplomowa.Temat AS 'Tytuł pracy dyplomowej',\r\n",
                "TypStudiow.NazwaTypuStudiow AS 'Typ studiów',\r\n",
                "CONCAT(Pracownik.Imie,' ',Pracownik.Nazwisko) AS 'Promotor',\r\n",
                "CONCAT(Student.Imie,' ',Student.Nazwisko) AS 'Autor Pracy',\r\n",
                "PracaDyplomowa.DataZlozenia AS 'Data złożenia',\r\n",
                "EgzaminDyplomowy.[Data] AS 'Data obrony'\r\n",
                "\r\n",
                "FROM\r\n",
                "PracaDyplomowa\r\n",
                "LEFT JOIN TypStudiow ON TypStudiow.ID_TypStudiow = PracaDyplomowa.ID_TypStudiow\r\n",
                "LEFT JOIN Pracownik ON Pracownik.ID_Pracownik = PracaDyplomowa.ID_Promotor\r\n",
                "LEFT JOIN EgzaminDyplomowy ON EgzaminDyplomowy.ID_Praca = PracaDyplomowa.ID_Praca\r\n",
                "LEFT JOIN Student ON Student.ID_Student = EgzaminDyplomowy.ID_Student\r\n",
                "\r\n",
                "ORDER BY EgzaminDyplomowy.[Data] DESC"
            ],
            "metadata": {
                "azdata_cell_guid": "dc4c64ac-52d1-4f31-a560-35ab771b30b2",
                "tags": []
            },
            "outputs": [
                {
                    "output_type": "display_data",
                    "data": {
                        "text/html": "(18 rows affected)"
                    },
                    "metadata": {}
                },
                {
                    "output_type": "display_data",
                    "data": {
                        "text/html": "Total execution time: 00:00:00.006"
                    },
                    "metadata": {}
                },
                {
                    "output_type": "execute_result",
                    "execution_count": 39,
                    "data": {
                        "application/vnd.dataresource+json": {
                            "schema": {
                                "fields": [
                                    {
                                        "name": "Tytuł pracy dyplomowej"
                                    },
                                    {
                                        "name": "Typ studiów"
                                    },
                                    {
                                        "name": "Promotor"
                                    },
                                    {
                                        "name": "Autor Pracy"
                                    },
                                    {
                                        "name": "Data złożenia"
                                    },
                                    {
                                        "name": "Data obrony"
                                    }
                                ]
                            },
                            "data": [
                                {
                                    "0": "Trójwymiarowe obiekty w przeglądarce",
                                    "1": "inżynierskie",
                                    "2": "Florian Michalak",
                                    "3": "Artur Mazur",
                                    "4": "2017-09-15",
                                    "5": "2020-02-03"
                                },
                                {
                                    "0": "Metody analizy dokładności wyników pomiarów w systemach z numerycznym przetwarzaniem danych",
                                    "1": "inżynierskie",
                                    "2": "Anastazy Baran",
                                    "3": "Artur Wojciechowski",
                                    "4": "2017-09-14",
                                    "5": "2020-01-05"
                                },
                                {
                                    "0": "Zastosowanie superkondensatorów do generowania udarów prądowych",
                                    "1": "inżynierskie",
                                    "2": "Gabriel Krawczyk",
                                    "3": "Augustyn Jankowski",
                                    "4": "2014-09-04",
                                    "5": "2019-10-11"
                                },
                                {
                                    "0": "Projekt wysokonapięciowego sterowanego iskiernika do pracy w układzie generatora prądowego",
                                    "1": "inżynierskie",
                                    "2": "Gabriel Krawczyk",
                                    "3": "Aurelia Kozłowska",
                                    "4": "2014-04-04",
                                    "5": "2019-09-30"
                                },
                                {
                                    "0": "Mikroprocesorowy system informacyjny",
                                    "1": "inżynierskie",
                                    "2": "Lidia Ostrowska",
                                    "3": "Aleksander Woźniak",
                                    "4": "2015-11-30",
                                    "5": "2019-07-14"
                                },
                                {
                                    "0": "Moduł kondycjonowania sygnałów z interfejsem komputerowym",
                                    "1": "licencjackie",
                                    "2": "Natan Lis",
                                    "3": "Szymon Szymański",
                                    "4": "2019-03-11",
                                    "5": "2019-07-11"
                                },
                                {
                                    "0": "Zastosowanie metod analizy korelacyjnej do eliminacji zakłóceń i szumów z sygnałów pomiarowych",
                                    "1": "licencjackie",
                                    "2": "Diana Marciniak",
                                    "3": "Adela Zielińska",
                                    "4": "2019-03-12",
                                    "5": "2019-06-14"
                                },
                                {
                                    "0": "Sterownik silnika komutatorowego z korektorem współczynnika mocy",
                                    "1": "inżynierskie",
                                    "2": "Aneta Szulc",
                                    "3": "Agata Dąbrowska",
                                    "4": "2020-04-12",
                                    "5": "2019-05-12"
                                },
                                {
                                    "0": "Model wyłącznika wysokonapięciowego",
                                    "1": "magisterskie",
                                    "2": "Nina Laskowska",
                                    "3": "Apoloniusz Lawendowski",
                                    "4": "2011-01-20",
                                    "5": "2019-04-12"
                                },
                                {
                                    "0": "Symulator - optymalizacja rojem cząstek",
                                    "1": "magisterskie",
                                    "2": "Nina Laskowska",
                                    "3": "Alina Kamińska",
                                    "4": "2011-02-11",
                                    "5": "2019-03-12"
                                },
                                {
                                    "0": "Projekt i wykonanie plotera 2D wykorzystującego Raspberry Pi i silniki krokowe",
                                    "1": "inżynierskie",
                                    "2": "Wioletta Kaczmarczyk",
                                    "3": "Adam Kowalczyk",
                                    "4": "2011-08-01",
                                    "5": "2019-02-12"
                                },
                                {
                                    "0": "System testowy dla układów automatyki opartych o komunikaty GOOSE",
                                    "1": "inżynierskie",
                                    "2": "Natan Lis",
                                    "3": "Agnieszka Kowalczyk",
                                    "4": "2013-11-19",
                                    "5": "2019-01-12"
                                },
                                {
                                    "0": "Projekt bazy danych dla sieci prywatnych ośrodków zdrowia.",
                                    "1": "licencjackie",
                                    "2": "Natan Lis",
                                    "3": " ",
                                    "4": "NULL",
                                    "5": "NULL"
                                },
                                {
                                    "0": "Aplikacja mobilna wspierająca pracę przedstawicieli handlowych.",
                                    "1": "licencjackie",
                                    "2": "Aneta Szulc",
                                    "3": " ",
                                    "4": "NULL",
                                    "5": "NULL"
                                },
                                {
                                    "0": "Analiza zanieczyszczenia światłem na terenie Warszawy w latach 2012-2021",
                                    "1": "licencjackie",
                                    "2": "Lidia Ostrowska",
                                    "3": " ",
                                    "4": "2021-12-12",
                                    "5": "NULL"
                                },
                                {
                                    "0": "Sterowanie autonomicznej bezzałogowej łodzi podwodnej",
                                    "1": "magisterskie",
                                    "2": "Henryk Maciejewski",
                                    "3": " ",
                                    "4": "2008-07-13",
                                    "5": "NULL"
                                },
                                {
                                    "0": "Projekt aplikacji wspomagającej proces doboru pracownika – „która z osób będzie najlepszym kandydatem na informatyka?”",
                                    "1": "magisterskie",
                                    "2": "Ignacy Bąk",
                                    "3": " ",
                                    "4": "2021-10-10",
                                    "5": "NULL"
                                },
                                {
                                    "0": "Bezpieczeństwo informatyczne systemów operacyjnych stosowanych w elektroenergetyce",
                                    "1": "magisterskie",
                                    "2": "Mirosław Sikorski",
                                    "3": " ",
                                    "4": "2021-11-10",
                                    "5": "NULL"
                                }
                            ]
                        },
                        "text/html": "<table><tr><th>Tytuł pracy dyplomowej</th><th>Typ studiów</th><th>Promotor</th><th>Autor Pracy</th><th>Data złożenia</th><th>Data obrony</th></tr><tr><td>Trójwymiarowe obiekty w przeglądarce</td><td>inżynierskie</td><td>Florian Michalak</td><td>Artur Mazur</td><td>2017-09-15</td><td>2020-02-03</td></tr><tr><td>Metody analizy dokładności wyników pomiarów w systemach z numerycznym przetwarzaniem danych</td><td>inżynierskie</td><td>Anastazy Baran</td><td>Artur Wojciechowski</td><td>2017-09-14</td><td>2020-01-05</td></tr><tr><td>Zastosowanie superkondensatorów do generowania udarów prądowych</td><td>inżynierskie</td><td>Gabriel Krawczyk</td><td>Augustyn Jankowski</td><td>2014-09-04</td><td>2019-10-11</td></tr><tr><td>Projekt wysokonapięciowego sterowanego iskiernika do pracy w układzie generatora prądowego</td><td>inżynierskie</td><td>Gabriel Krawczyk</td><td>Aurelia Kozłowska</td><td>2014-04-04</td><td>2019-09-30</td></tr><tr><td>Mikroprocesorowy system informacyjny</td><td>inżynierskie</td><td>Lidia Ostrowska</td><td>Aleksander Woźniak</td><td>2015-11-30</td><td>2019-07-14</td></tr><tr><td>Moduł kondycjonowania sygnałów z interfejsem komputerowym</td><td>licencjackie</td><td>Natan Lis</td><td>Szymon Szymański</td><td>2019-03-11</td><td>2019-07-11</td></tr><tr><td>Zastosowanie metod analizy korelacyjnej do eliminacji zakłóceń i szumów z sygnałów pomiarowych</td><td>licencjackie</td><td>Diana Marciniak</td><td>Adela Zielińska</td><td>2019-03-12</td><td>2019-06-14</td></tr><tr><td>Sterownik silnika komutatorowego z korektorem współczynnika mocy</td><td>inżynierskie</td><td>Aneta Szulc</td><td>Agata Dąbrowska</td><td>2020-04-12</td><td>2019-05-12</td></tr><tr><td>Model wyłącznika wysokonapięciowego</td><td>magisterskie</td><td>Nina Laskowska</td><td>Apoloniusz Lawendowski</td><td>2011-01-20</td><td>2019-04-12</td></tr><tr><td>Symulator - optymalizacja rojem cząstek</td><td>magisterskie</td><td>Nina Laskowska</td><td>Alina Kamińska</td><td>2011-02-11</td><td>2019-03-12</td></tr><tr><td>Projekt i wykonanie plotera 2D wykorzystującego Raspberry Pi i silniki krokowe</td><td>inżynierskie</td><td>Wioletta Kaczmarczyk</td><td>Adam Kowalczyk</td><td>2011-08-01</td><td>2019-02-12</td></tr><tr><td>System testowy dla układów automatyki opartych o komunikaty GOOSE</td><td>inżynierskie</td><td>Natan Lis</td><td>Agnieszka Kowalczyk</td><td>2013-11-19</td><td>2019-01-12</td></tr><tr><td>Projekt bazy danych dla sieci prywatnych ośrodków zdrowia.</td><td>licencjackie</td><td>Natan Lis</td><td> </td><td>NULL</td><td>NULL</td></tr><tr><td>Aplikacja mobilna wspierająca pracę przedstawicieli handlowych.</td><td>licencjackie</td><td>Aneta Szulc</td><td> </td><td>NULL</td><td>NULL</td></tr><tr><td>Analiza zanieczyszczenia światłem na terenie Warszawy w latach 2012-2021</td><td>licencjackie</td><td>Lidia Ostrowska</td><td> </td><td>2021-12-12</td><td>NULL</td></tr><tr><td>Sterowanie autonomicznej bezzałogowej łodzi podwodnej</td><td>magisterskie</td><td>Henryk Maciejewski</td><td> </td><td>2008-07-13</td><td>NULL</td></tr><tr><td>Projekt aplikacji wspomagającej proces doboru pracownika – „która z osób będzie najlepszym kandydatem na informatyka?”</td><td>magisterskie</td><td>Ignacy Bąk</td><td> </td><td>2021-10-10</td><td>NULL</td></tr><tr><td>Bezpieczeństwo informatyczne systemów operacyjnych stosowanych w elektroenergetyce</td><td>magisterskie</td><td>Mirosław Sikorski</td><td> </td><td>2021-11-10</td><td>NULL</td></tr></table>"
                    },
                    "metadata": {}
                }
            ],
            "execution_count": 39
        },
        {
            "cell_type": "markdown",
            "source": [
                "5\\. Uzyskanie informacji o wszystkich pracach uporządkowanych według oceny końcowej i daty obrony"
            ],
            "metadata": {
                "azdata_cell_guid": "0e5241fe-aa15-40f2-ab0d-136381ac7404"
            },
            "attachments": {}
        },
        {
            "cell_type": "code",
            "source": [
                "SELECT \r\n",
                "PracaDyplomowa.Temat AS 'Tytuł pracy dyplomowej',\r\n",
                "TypStudiow.NazwaTypuStudiow AS 'Typ studiów',\r\n",
                "CONCAT(Pracownik.Imie,' ',Pracownik.Nazwisko) AS 'Promotor',\r\n",
                "CONCAT(Student.Imie,' ',Student.Nazwisko) AS 'Autor Pracy',\r\n",
                "Recenzja.Komentarz AS 'Komentarz recenzenta',\r\n",
                "EgzaminDyplomowy.OcenaKoncowa AS 'Ocena Końcowa',\r\n",
                "EgzaminDyplomowy.[Data] AS 'Data Obrony'\r\n",
                "\r\n",
                "FROM\r\n",
                "PracaDyplomowa\r\n",
                "LEFT JOIN TypStudiow ON TypStudiow.ID_TypStudiow = PracaDyplomowa.ID_TypStudiow\r\n",
                "LEFT JOIN Pracownik ON Pracownik.ID_Pracownik = PracaDyplomowa.ID_Promotor\r\n",
                "LEFT JOIN EgzaminDyplomowy ON EgzaminDyplomowy.ID_Praca = PracaDyplomowa.ID_Praca\r\n",
                "LEFT JOIN Student ON Student.ID_Student = EgzaminDyplomowy.ID_Student\r\n",
                "LEFT JOIN Recenzja ON Recenzja.ID_Praca = PracaDyplomowa.ID_Praca\r\n",
                "\r\n",
                "ORDER BY EgzaminDyplomowy.OcenaKoncowa DESC, EgzaminDyplomowy.[Data] DESC"
            ],
            "metadata": {
                "azdata_cell_guid": "9a735a67-3b29-4af6-87cb-8c6d5df98e12",
                "tags": []
            },
            "outputs": [
                {
                    "output_type": "display_data",
                    "data": {
                        "text/html": "(18 rows affected)"
                    },
                    "metadata": {}
                },
                {
                    "output_type": "display_data",
                    "data": {
                        "text/html": "Total execution time: 00:00:00.006"
                    },
                    "metadata": {}
                },
                {
                    "output_type": "execute_result",
                    "execution_count": 43,
                    "data": {
                        "application/vnd.dataresource+json": {
                            "schema": {
                                "fields": [
                                    {
                                        "name": "Tytuł pracy dyplomowej"
                                    },
                                    {
                                        "name": "Typ studiów"
                                    },
                                    {
                                        "name": "Promotor"
                                    },
                                    {
                                        "name": "Autor Pracy"
                                    },
                                    {
                                        "name": "Komentarz recenzenta"
                                    },
                                    {
                                        "name": "Ocena Końcowa"
                                    },
                                    {
                                        "name": "Data Obrony"
                                    }
                                ]
                            },
                            "data": [
                                {
                                    "0": "Trójwymiarowe obiekty w przeglądarce",
                                    "1": "inżynierskie",
                                    "2": "Florian Michalak",
                                    "3": "Artur Mazur",
                                    "4": "Praca wyczerpuje temat.",
                                    "5": "5",
                                    "6": "2020-02-03"
                                },
                                {
                                    "0": "Zastosowanie superkondensatorów do generowania udarów prądowych",
                                    "1": "inżynierskie",
                                    "2": "Gabriel Krawczyk",
                                    "3": "Augustyn Jankowski",
                                    "4": "Praca poprawna.",
                                    "5": "5",
                                    "6": "2019-10-11"
                                },
                                {
                                    "0": "Mikroprocesorowy system informacyjny",
                                    "1": "inżynierskie",
                                    "2": "Lidia Ostrowska",
                                    "3": "Aleksander Woźniak",
                                    "4": "Praca dostateczna.",
                                    "5": "5",
                                    "6": "2019-07-14"
                                },
                                {
                                    "0": "Sterownik silnika komutatorowego z korektorem współczynnika mocy",
                                    "1": "inżynierskie",
                                    "2": "Aneta Szulc",
                                    "3": "Agata Dąbrowska",
                                    "4": "Bardzo dobrze.",
                                    "5": "5",
                                    "6": "2019-05-12"
                                },
                                {
                                    "0": "Model wyłącznika wysokonapięciowego",
                                    "1": "magisterskie",
                                    "2": "Nina Laskowska",
                                    "3": "Apoloniusz Lawendowski",
                                    "4": "Bardzo dobrze.",
                                    "5": "5",
                                    "6": "2019-04-12"
                                },
                                {
                                    "0": "Projekt i wykonanie plotera 2D wykorzystującego Raspberry Pi i silniki krokowe",
                                    "1": "inżynierskie",
                                    "2": "Wioletta Kaczmarczyk",
                                    "3": "Adam Kowalczyk",
                                    "4": "NULL",
                                    "5": "5",
                                    "6": "2019-02-12"
                                },
                                {
                                    "0": "System testowy dla układów automatyki opartych o komunikaty GOOSE",
                                    "1": "inżynierskie",
                                    "2": "Natan Lis",
                                    "3": "Agnieszka Kowalczyk",
                                    "4": "NULL",
                                    "5": "5",
                                    "6": "2019-01-12"
                                },
                                {
                                    "0": "Metody analizy dokładności wyników pomiarów w systemach z numerycznym przetwarzaniem danych",
                                    "1": "inżynierskie",
                                    "2": "Anastazy Baran",
                                    "3": "Artur Wojciechowski",
                                    "4": "Drobne błędy.",
                                    "5": "4",
                                    "6": "2020-01-05"
                                },
                                {
                                    "0": "Moduł kondycjonowania sygnałów z interfejsem komputerowym",
                                    "1": "licencjackie",
                                    "2": "Natan Lis",
                                    "3": "Szymon Szymański",
                                    "4": "Bardzo dobrze.",
                                    "5": "4",
                                    "6": "2019-07-11"
                                },
                                {
                                    "0": "Symulator - optymalizacja rojem cząstek",
                                    "1": "magisterskie",
                                    "2": "Nina Laskowska",
                                    "3": "Alina Kamińska",
                                    "4": "Praca poprawna.",
                                    "5": "4",
                                    "6": "2019-03-12"
                                },
                                {
                                    "0": "Projekt wysokonapięciowego sterowanego iskiernika do pracy w układzie generatora prądowego",
                                    "1": "inżynierskie",
                                    "2": "Gabriel Krawczyk",
                                    "3": "Aurelia Kozłowska",
                                    "4": "Praca poprawna.",
                                    "5": "3",
                                    "6": "2019-09-30"
                                },
                                {
                                    "0": "Zastosowanie metod analizy korelacyjnej do eliminacji zakłóceń i szumów z sygnałów pomiarowych",
                                    "1": "licencjackie",
                                    "2": "Diana Marciniak",
                                    "3": "Adela Zielińska",
                                    "4": "Drobne błędy.",
                                    "5": "3",
                                    "6": "2019-06-14"
                                },
                                {
                                    "0": "Sterowanie autonomicznej bezzałogowej łodzi podwodnej",
                                    "1": "magisterskie",
                                    "2": "Henryk Maciejewski",
                                    "3": "Andrzej Kowalski",
                                    "4": "Dobrze.",
                                    "5": "3",
                                    "6": "2013-05-07"
                                },
                                {
                                    "0": "Analiza zanieczyszczenia światłem na terenie Warszawy w latach 2012-2021",
                                    "1": "licencjackie",
                                    "2": "Lidia Ostrowska",
                                    "3": "Adrian Wiśniewski",
                                    "4": "Dobrze.",
                                    "5": "2",
                                    "6": "2013-01-03"
                                },
                                {
                                    "0": "Projekt aplikacji wspomagającej proces doboru pracownika – „która z osób będzie najlepszym kandydatem na informatyka?”",
                                    "1": "magisterskie",
                                    "2": "Ignacy Bąk",
                                    "3": " ",
                                    "4": "NULL",
                                    "5": "NULL",
                                    "6": "NULL"
                                },
                                {
                                    "0": "Bezpieczeństwo informatyczne systemów operacyjnych stosowanych w elektroenergetyce",
                                    "1": "magisterskie",
                                    "2": "Mirosław Sikorski",
                                    "3": " ",
                                    "4": "NULL",
                                    "5": "NULL",
                                    "6": "NULL"
                                },
                                {
                                    "0": "Projekt bazy danych dla sieci prywatnych ośrodków zdrowia.",
                                    "1": "licencjackie",
                                    "2": "Natan Lis",
                                    "3": " ",
                                    "4": "NULL",
                                    "5": "NULL",
                                    "6": "NULL"
                                },
                                {
                                    "0": "Aplikacja mobilna wspierająca pracę przedstawicieli handlowych.",
                                    "1": "licencjackie",
                                    "2": "Aneta Szulc",
                                    "3": " ",
                                    "4": "NULL",
                                    "5": "NULL",
                                    "6": "NULL"
                                }
                            ]
                        },
                        "text/html": "<table><tr><th>Tytuł pracy dyplomowej</th><th>Typ studiów</th><th>Promotor</th><th>Autor Pracy</th><th>Komentarz recenzenta</th><th>Ocena Końcowa</th><th>Data Obrony</th></tr><tr><td>Trójwymiarowe obiekty w przeglądarce</td><td>inżynierskie</td><td>Florian Michalak</td><td>Artur Mazur</td><td>Praca wyczerpuje temat.</td><td>5</td><td>2020-02-03</td></tr><tr><td>Zastosowanie superkondensatorów do generowania udarów prądowych</td><td>inżynierskie</td><td>Gabriel Krawczyk</td><td>Augustyn Jankowski</td><td>Praca poprawna.</td><td>5</td><td>2019-10-11</td></tr><tr><td>Mikroprocesorowy system informacyjny</td><td>inżynierskie</td><td>Lidia Ostrowska</td><td>Aleksander Woźniak</td><td>Praca dostateczna.</td><td>5</td><td>2019-07-14</td></tr><tr><td>Sterownik silnika komutatorowego z korektorem współczynnika mocy</td><td>inżynierskie</td><td>Aneta Szulc</td><td>Agata Dąbrowska</td><td>Bardzo dobrze.</td><td>5</td><td>2019-05-12</td></tr><tr><td>Model wyłącznika wysokonapięciowego</td><td>magisterskie</td><td>Nina Laskowska</td><td>Apoloniusz Lawendowski</td><td>Bardzo dobrze.</td><td>5</td><td>2019-04-12</td></tr><tr><td>Projekt i wykonanie plotera 2D wykorzystującego Raspberry Pi i silniki krokowe</td><td>inżynierskie</td><td>Wioletta Kaczmarczyk</td><td>Adam Kowalczyk</td><td>NULL</td><td>5</td><td>2019-02-12</td></tr><tr><td>System testowy dla układów automatyki opartych o komunikaty GOOSE</td><td>inżynierskie</td><td>Natan Lis</td><td>Agnieszka Kowalczyk</td><td>NULL</td><td>5</td><td>2019-01-12</td></tr><tr><td>Metody analizy dokładności wyników pomiarów w systemach z numerycznym przetwarzaniem danych</td><td>inżynierskie</td><td>Anastazy Baran</td><td>Artur Wojciechowski</td><td>Drobne błędy.</td><td>4</td><td>2020-01-05</td></tr><tr><td>Moduł kondycjonowania sygnałów z interfejsem komputerowym</td><td>licencjackie</td><td>Natan Lis</td><td>Szymon Szymański</td><td>Bardzo dobrze.</td><td>4</td><td>2019-07-11</td></tr><tr><td>Symulator - optymalizacja rojem cząstek</td><td>magisterskie</td><td>Nina Laskowska</td><td>Alina Kamińska</td><td>Praca poprawna.</td><td>4</td><td>2019-03-12</td></tr><tr><td>Projekt wysokonapięciowego sterowanego iskiernika do pracy w układzie generatora prądowego</td><td>inżynierskie</td><td>Gabriel Krawczyk</td><td>Aurelia Kozłowska</td><td>Praca poprawna.</td><td>3</td><td>2019-09-30</td></tr><tr><td>Zastosowanie metod analizy korelacyjnej do eliminacji zakłóceń i szumów z sygnałów pomiarowych</td><td>licencjackie</td><td>Diana Marciniak</td><td>Adela Zielińska</td><td>Drobne błędy.</td><td>3</td><td>2019-06-14</td></tr><tr><td>Sterowanie autonomicznej bezzałogowej łodzi podwodnej</td><td>magisterskie</td><td>Henryk Maciejewski</td><td>Andrzej Kowalski</td><td>Dobrze.</td><td>3</td><td>2013-05-07</td></tr><tr><td>Analiza zanieczyszczenia światłem na terenie Warszawy w latach 2012-2021</td><td>licencjackie</td><td>Lidia Ostrowska</td><td>Adrian Wiśniewski</td><td>Dobrze.</td><td>2</td><td>2013-01-03</td></tr><tr><td>Projekt aplikacji wspomagającej proces doboru pracownika – „która z osób będzie najlepszym kandydatem na informatyka?”</td><td>magisterskie</td><td>Ignacy Bąk</td><td> </td><td>NULL</td><td>NULL</td><td>NULL</td></tr><tr><td>Bezpieczeństwo informatyczne systemów operacyjnych stosowanych w elektroenergetyce</td><td>magisterskie</td><td>Mirosław Sikorski</td><td> </td><td>NULL</td><td>NULL</td><td>NULL</td></tr><tr><td>Projekt bazy danych dla sieci prywatnych ośrodków zdrowia.</td><td>licencjackie</td><td>Natan Lis</td><td> </td><td>NULL</td><td>NULL</td><td>NULL</td></tr><tr><td>Aplikacja mobilna wspierająca pracę przedstawicieli handlowych.</td><td>licencjackie</td><td>Aneta Szulc</td><td> </td><td>NULL</td><td>NULL</td><td>NULL</td></tr></table>"
                    },
                    "metadata": {}
                }
            ],
            "execution_count": 43
        },
        {
            "cell_type": "markdown",
            "source": [
                "6\\. Uzyskanie informacji o wszystkich pracach uporządkowanych według rodzaju studiów"
            ],
            "metadata": {
                "azdata_cell_guid": "331ffd64-e82a-4dfd-a844-65266e31a1ef"
            },
            "attachments": {}
        },
        {
            "cell_type": "code",
            "source": [
                "SELECT \r\n",
                "PracaDyplomowa.Temat AS 'Tytuł pracy dyplomowej',\r\n",
                "TypStudiow.NazwaTypuStudiow AS 'Typ studiów',\r\n",
                "CONCAT(Pracownik.Imie,' ',Pracownik.Nazwisko) AS 'Promotor',\r\n",
                "CONCAT(Student.Imie,' ',Student.Nazwisko) AS 'Autor Pracy',\r\n",
                "Recenzja.Komentarz AS 'Komentarz recenzenta',\r\n",
                "EgzaminDyplomowy.OcenaKoncowa AS 'Ocena Końcowa',\r\n",
                "EgzaminDyplomowy.[Data] AS 'Data Obrony'\r\n",
                "\r\n",
                "FROM\r\n",
                "PracaDyplomowa\r\n",
                "LEFT JOIN TypStudiow ON TypStudiow.ID_TypStudiow = PracaDyplomowa.ID_TypStudiow\r\n",
                "LEFT JOIN Pracownik ON Pracownik.ID_Pracownik = PracaDyplomowa.ID_Promotor\r\n",
                "LEFT JOIN EgzaminDyplomowy ON EgzaminDyplomowy.ID_Praca = PracaDyplomowa.ID_Praca\r\n",
                "LEFT JOIN Student ON Student.ID_Student = EgzaminDyplomowy.ID_Student\r\n",
                "LEFT JOIN Recenzja ON Recenzja.ID_Praca = PracaDyplomowa.ID_Praca\r\n",
                "\r\n",
                "ORDER BY TypStudiow.NazwaTypuStudiow ASC"
            ],
            "metadata": {
                "azdata_cell_guid": "dd92e8dc-abc3-4f55-995f-8dc1ee22cb98",
                "tags": []
            },
            "outputs": [
                {
                    "output_type": "display_data",
                    "data": {
                        "text/html": "(18 rows affected)"
                    },
                    "metadata": {}
                },
                {
                    "output_type": "display_data",
                    "data": {
                        "text/html": "Total execution time: 00:00:00.006"
                    },
                    "metadata": {}
                },
                {
                    "output_type": "execute_result",
                    "execution_count": 44,
                    "data": {
                        "application/vnd.dataresource+json": {
                            "schema": {
                                "fields": [
                                    {
                                        "name": "Tytuł pracy dyplomowej"
                                    },
                                    {
                                        "name": "Typ studiów"
                                    },
                                    {
                                        "name": "Promotor"
                                    },
                                    {
                                        "name": "Autor Pracy"
                                    },
                                    {
                                        "name": "Komentarz recenzenta"
                                    },
                                    {
                                        "name": "Ocena Końcowa"
                                    },
                                    {
                                        "name": "Data Obrony"
                                    }
                                ]
                            },
                            "data": [
                                {
                                    "0": "System testowy dla układów automatyki opartych o komunikaty GOOSE",
                                    "1": "inżynierskie",
                                    "2": "Natan Lis",
                                    "3": "Agnieszka Kowalczyk",
                                    "4": "NULL",
                                    "5": "5",
                                    "6": "2019-01-12"
                                },
                                {
                                    "0": "Projekt i wykonanie plotera 2D wykorzystującego Raspberry Pi i silniki krokowe",
                                    "1": "inżynierskie",
                                    "2": "Wioletta Kaczmarczyk",
                                    "3": "Adam Kowalczyk",
                                    "4": "NULL",
                                    "5": "5",
                                    "6": "2019-02-12"
                                },
                                {
                                    "0": "Mikroprocesorowy system informacyjny",
                                    "1": "inżynierskie",
                                    "2": "Lidia Ostrowska",
                                    "3": "Aleksander Woźniak",
                                    "4": "Praca dostateczna.",
                                    "5": "5",
                                    "6": "2019-07-14"
                                },
                                {
                                    "0": "Projekt wysokonapięciowego sterowanego iskiernika do pracy w układzie generatora prądowego",
                                    "1": "inżynierskie",
                                    "2": "Gabriel Krawczyk",
                                    "3": "Aurelia Kozłowska",
                                    "4": "Praca poprawna.",
                                    "5": "3",
                                    "6": "2019-09-30"
                                },
                                {
                                    "0": "Zastosowanie superkondensatorów do generowania udarów prądowych",
                                    "1": "inżynierskie",
                                    "2": "Gabriel Krawczyk",
                                    "3": "Augustyn Jankowski",
                                    "4": "Praca poprawna.",
                                    "5": "5",
                                    "6": "2019-10-11"
                                },
                                {
                                    "0": "Metody analizy dokładności wyników pomiarów w systemach z numerycznym przetwarzaniem danych",
                                    "1": "inżynierskie",
                                    "2": "Anastazy Baran",
                                    "3": "Artur Wojciechowski",
                                    "4": "Drobne błędy.",
                                    "5": "4",
                                    "6": "2020-01-05"
                                },
                                {
                                    "0": "Trójwymiarowe obiekty w przeglądarce",
                                    "1": "inżynierskie",
                                    "2": "Florian Michalak",
                                    "3": "Artur Mazur",
                                    "4": "Praca wyczerpuje temat.",
                                    "5": "5",
                                    "6": "2020-02-03"
                                },
                                {
                                    "0": "Sterownik silnika komutatorowego z korektorem współczynnika mocy",
                                    "1": "inżynierskie",
                                    "2": "Aneta Szulc",
                                    "3": "Agata Dąbrowska",
                                    "4": "Bardzo dobrze.",
                                    "5": "5",
                                    "6": "2019-05-12"
                                },
                                {
                                    "0": "Projekt bazy danych dla sieci prywatnych ośrodków zdrowia.",
                                    "1": "licencjackie",
                                    "2": "Natan Lis",
                                    "3": " ",
                                    "4": "NULL",
                                    "5": "NULL",
                                    "6": "NULL"
                                },
                                {
                                    "0": "Aplikacja mobilna wspierająca pracę przedstawicieli handlowych.",
                                    "1": "licencjackie",
                                    "2": "Aneta Szulc",
                                    "3": " ",
                                    "4": "NULL",
                                    "5": "NULL",
                                    "6": "NULL"
                                },
                                {
                                    "0": "Moduł kondycjonowania sygnałów z interfejsem komputerowym",
                                    "1": "licencjackie",
                                    "2": "Natan Lis",
                                    "3": "Szymon Szymański",
                                    "4": "Bardzo dobrze.",
                                    "5": "4",
                                    "6": "2019-07-11"
                                },
                                {
                                    "0": "Zastosowanie metod analizy korelacyjnej do eliminacji zakłóceń i szumów z sygnałów pomiarowych",
                                    "1": "licencjackie",
                                    "2": "Diana Marciniak",
                                    "3": "Adela Zielińska",
                                    "4": "Drobne błędy.",
                                    "5": "3",
                                    "6": "2019-06-14"
                                },
                                {
                                    "0": "Analiza zanieczyszczenia światłem na terenie Warszawy w latach 2012-2021",
                                    "1": "licencjackie",
                                    "2": "Lidia Ostrowska",
                                    "3": "Adrian Wiśniewski",
                                    "4": "Dobrze.",
                                    "5": "2",
                                    "6": "2013-01-03"
                                },
                                {
                                    "0": "Sterowanie autonomicznej bezzałogowej łodzi podwodnej",
                                    "1": "magisterskie",
                                    "2": "Henryk Maciejewski",
                                    "3": "Andrzej Kowalski",
                                    "4": "Dobrze.",
                                    "5": "3",
                                    "6": "2013-05-07"
                                },
                                {
                                    "0": "Projekt aplikacji wspomagającej proces doboru pracownika – „która z osób będzie najlepszym kandydatem na informatyka?”",
                                    "1": "magisterskie",
                                    "2": "Ignacy Bąk",
                                    "3": " ",
                                    "4": "NULL",
                                    "5": "NULL",
                                    "6": "NULL"
                                },
                                {
                                    "0": "Bezpieczeństwo informatyczne systemów operacyjnych stosowanych w elektroenergetyce",
                                    "1": "magisterskie",
                                    "2": "Mirosław Sikorski",
                                    "3": " ",
                                    "4": "NULL",
                                    "5": "NULL",
                                    "6": "NULL"
                                },
                                {
                                    "0": "Model wyłącznika wysokonapięciowego",
                                    "1": "magisterskie",
                                    "2": "Nina Laskowska",
                                    "3": "Apoloniusz Lawendowski",
                                    "4": "Bardzo dobrze.",
                                    "5": "5",
                                    "6": "2019-04-12"
                                },
                                {
                                    "0": "Symulator - optymalizacja rojem cząstek",
                                    "1": "magisterskie",
                                    "2": "Nina Laskowska",
                                    "3": "Alina Kamińska",
                                    "4": "Praca poprawna.",
                                    "5": "4",
                                    "6": "2019-03-12"
                                }
                            ]
                        },
                        "text/html": "<table><tr><th>Tytuł pracy dyplomowej</th><th>Typ studiów</th><th>Promotor</th><th>Autor Pracy</th><th>Komentarz recenzenta</th><th>Ocena Końcowa</th><th>Data Obrony</th></tr><tr><td>System testowy dla układów automatyki opartych o komunikaty GOOSE</td><td>inżynierskie</td><td>Natan Lis</td><td>Agnieszka Kowalczyk</td><td>NULL</td><td>5</td><td>2019-01-12</td></tr><tr><td>Projekt i wykonanie plotera 2D wykorzystującego Raspberry Pi i silniki krokowe</td><td>inżynierskie</td><td>Wioletta Kaczmarczyk</td><td>Adam Kowalczyk</td><td>NULL</td><td>5</td><td>2019-02-12</td></tr><tr><td>Mikroprocesorowy system informacyjny</td><td>inżynierskie</td><td>Lidia Ostrowska</td><td>Aleksander Woźniak</td><td>Praca dostateczna.</td><td>5</td><td>2019-07-14</td></tr><tr><td>Projekt wysokonapięciowego sterowanego iskiernika do pracy w układzie generatora prądowego</td><td>inżynierskie</td><td>Gabriel Krawczyk</td><td>Aurelia Kozłowska</td><td>Praca poprawna.</td><td>3</td><td>2019-09-30</td></tr><tr><td>Zastosowanie superkondensatorów do generowania udarów prądowych</td><td>inżynierskie</td><td>Gabriel Krawczyk</td><td>Augustyn Jankowski</td><td>Praca poprawna.</td><td>5</td><td>2019-10-11</td></tr><tr><td>Metody analizy dokładności wyników pomiarów w systemach z numerycznym przetwarzaniem danych</td><td>inżynierskie</td><td>Anastazy Baran</td><td>Artur Wojciechowski</td><td>Drobne błędy.</td><td>4</td><td>2020-01-05</td></tr><tr><td>Trójwymiarowe obiekty w przeglądarce</td><td>inżynierskie</td><td>Florian Michalak</td><td>Artur Mazur</td><td>Praca wyczerpuje temat.</td><td>5</td><td>2020-02-03</td></tr><tr><td>Sterownik silnika komutatorowego z korektorem współczynnika mocy</td><td>inżynierskie</td><td>Aneta Szulc</td><td>Agata Dąbrowska</td><td>Bardzo dobrze.</td><td>5</td><td>2019-05-12</td></tr><tr><td>Projekt bazy danych dla sieci prywatnych ośrodków zdrowia.</td><td>licencjackie</td><td>Natan Lis</td><td> </td><td>NULL</td><td>NULL</td><td>NULL</td></tr><tr><td>Aplikacja mobilna wspierająca pracę przedstawicieli handlowych.</td><td>licencjackie</td><td>Aneta Szulc</td><td> </td><td>NULL</td><td>NULL</td><td>NULL</td></tr><tr><td>Moduł kondycjonowania sygnałów z interfejsem komputerowym</td><td>licencjackie</td><td>Natan Lis</td><td>Szymon Szymański</td><td>Bardzo dobrze.</td><td>4</td><td>2019-07-11</td></tr><tr><td>Zastosowanie metod analizy korelacyjnej do eliminacji zakłóceń i szumów z sygnałów pomiarowych</td><td>licencjackie</td><td>Diana Marciniak</td><td>Adela Zielińska</td><td>Drobne błędy.</td><td>3</td><td>2019-06-14</td></tr><tr><td>Analiza zanieczyszczenia światłem na terenie Warszawy w latach 2012-2021</td><td>licencjackie</td><td>Lidia Ostrowska</td><td>Adrian Wiśniewski</td><td>Dobrze.</td><td>2</td><td>2013-01-03</td></tr><tr><td>Sterowanie autonomicznej bezzałogowej łodzi podwodnej</td><td>magisterskie</td><td>Henryk Maciejewski</td><td>Andrzej Kowalski</td><td>Dobrze.</td><td>3</td><td>2013-05-07</td></tr><tr><td>Projekt aplikacji wspomagającej proces doboru pracownika – „która z osób będzie najlepszym kandydatem na informatyka?”</td><td>magisterskie</td><td>Ignacy Bąk</td><td> </td><td>NULL</td><td>NULL</td><td>NULL</td></tr><tr><td>Bezpieczeństwo informatyczne systemów operacyjnych stosowanych w elektroenergetyce</td><td>magisterskie</td><td>Mirosław Sikorski</td><td> </td><td>NULL</td><td>NULL</td><td>NULL</td></tr><tr><td>Model wyłącznika wysokonapięciowego</td><td>magisterskie</td><td>Nina Laskowska</td><td>Apoloniusz Lawendowski</td><td>Bardzo dobrze.</td><td>5</td><td>2019-04-12</td></tr><tr><td>Symulator - optymalizacja rojem cząstek</td><td>magisterskie</td><td>Nina Laskowska</td><td>Alina Kamińska</td><td>Praca poprawna.</td><td>4</td><td>2019-03-12</td></tr></table>"
                    },
                    "metadata": {}
                }
            ],
            "execution_count": 44
        },
        {
            "cell_type": "markdown",
            "source": [
                "7\\. Uzyskanie informacji o wszystkich pracach prowadzonych na danym, podanym z nazwy, rodzaju studiów"
            ],
            "metadata": {
                "azdata_cell_guid": "a4d4bad3-5421-4c7c-806b-05efb28aec66"
            },
            "attachments": {}
        },
        {
            "cell_type": "code",
            "source": [
                "SELECT \r\n",
                "PracaDyplomowa.Temat AS 'Tytuł pracy dyplomowej',\r\n",
                "TypStudiow.NazwaTypuStudiow AS 'Typ studiów',\r\n",
                "CONCAT(Pracownik.Imie,' ',Pracownik.Nazwisko) AS 'Promotor',\r\n",
                "CONCAT(Student.Imie,' ',Student.Nazwisko) AS 'Autor Pracy',\r\n",
                "Recenzja.Komentarz AS 'Komentarz recenzenta',\r\n",
                "EgzaminDyplomowy.OcenaKoncowa AS 'Ocena Końcowa',\r\n",
                "EgzaminDyplomowy.[Data] AS 'Data Obrony'\r\n",
                "\r\n",
                "FROM\r\n",
                "PracaDyplomowa\r\n",
                "LEFT JOIN TypStudiow ON TypStudiow.ID_TypStudiow = PracaDyplomowa.ID_TypStudiow\r\n",
                "LEFT JOIN Pracownik ON Pracownik.ID_Pracownik = PracaDyplomowa.ID_Promotor\r\n",
                "LEFT JOIN EgzaminDyplomowy ON EgzaminDyplomowy.ID_Praca = PracaDyplomowa.ID_Praca\r\n",
                "LEFt JOIN Student ON Student.ID_Student = EgzaminDyplomowy.ID_Student\r\n",
                "LEFT JOIN Recenzja ON Recenzja.ID_Praca = PracaDyplomowa.ID_Praca\r\n",
                "\r\n",
                "WHERE TypStudiow.NazwaTypuStudiow = 'inżynierskie'\r\n",
                "ORDER BY PracaDyplomowa.Temat"
            ],
            "metadata": {
                "azdata_cell_guid": "812312eb-3e60-4c53-acea-643a9790105a",
                "tags": []
            },
            "outputs": [
                {
                    "output_type": "display_data",
                    "data": {
                        "text/html": "(8 rows affected)"
                    },
                    "metadata": {}
                },
                {
                    "output_type": "display_data",
                    "data": {
                        "text/html": "Total execution time: 00:00:00.007"
                    },
                    "metadata": {}
                },
                {
                    "output_type": "execute_result",
                    "execution_count": 46,
                    "data": {
                        "application/vnd.dataresource+json": {
                            "schema": {
                                "fields": [
                                    {
                                        "name": "Tytuł pracy dyplomowej"
                                    },
                                    {
                                        "name": "Typ studiów"
                                    },
                                    {
                                        "name": "Promotor"
                                    },
                                    {
                                        "name": "Autor Pracy"
                                    },
                                    {
                                        "name": "Komentarz recenzenta"
                                    },
                                    {
                                        "name": "Ocena Końcowa"
                                    },
                                    {
                                        "name": "Data Obrony"
                                    }
                                ]
                            },
                            "data": [
                                {
                                    "0": "Metody analizy dokładności wyników pomiarów w systemach z numerycznym przetwarzaniem danych",
                                    "1": "inżynierskie",
                                    "2": "Anastazy Baran",
                                    "3": "Artur Wojciechowski",
                                    "4": "Drobne błędy.",
                                    "5": "4",
                                    "6": "2020-01-05"
                                },
                                {
                                    "0": "Mikroprocesorowy system informacyjny",
                                    "1": "inżynierskie",
                                    "2": "Lidia Ostrowska",
                                    "3": "Aleksander Woźniak",
                                    "4": "Praca dostateczna.",
                                    "5": "5",
                                    "6": "2019-07-14"
                                },
                                {
                                    "0": "Projekt i wykonanie plotera 2D wykorzystującego Raspberry Pi i silniki krokowe",
                                    "1": "inżynierskie",
                                    "2": "Wioletta Kaczmarczyk",
                                    "3": "Adam Kowalczyk",
                                    "4": "NULL",
                                    "5": "5",
                                    "6": "2019-02-12"
                                },
                                {
                                    "0": "Projekt wysokonapięciowego sterowanego iskiernika do pracy w układzie generatora prądowego",
                                    "1": "inżynierskie",
                                    "2": "Gabriel Krawczyk",
                                    "3": "Aurelia Kozłowska",
                                    "4": "Praca poprawna.",
                                    "5": "3",
                                    "6": "2019-09-30"
                                },
                                {
                                    "0": "Sterownik silnika komutatorowego z korektorem współczynnika mocy",
                                    "1": "inżynierskie",
                                    "2": "Aneta Szulc",
                                    "3": "Agata Dąbrowska",
                                    "4": "Bardzo dobrze.",
                                    "5": "5",
                                    "6": "2019-05-12"
                                },
                                {
                                    "0": "System testowy dla układów automatyki opartych o komunikaty GOOSE",
                                    "1": "inżynierskie",
                                    "2": "Natan Lis",
                                    "3": "Agnieszka Kowalczyk",
                                    "4": "NULL",
                                    "5": "5",
                                    "6": "2019-01-12"
                                },
                                {
                                    "0": "Trójwymiarowe obiekty w przeglądarce",
                                    "1": "inżynierskie",
                                    "2": "Florian Michalak",
                                    "3": "Artur Mazur",
                                    "4": "Praca wyczerpuje temat.",
                                    "5": "5",
                                    "6": "2020-02-03"
                                },
                                {
                                    "0": "Zastosowanie superkondensatorów do generowania udarów prądowych",
                                    "1": "inżynierskie",
                                    "2": "Gabriel Krawczyk",
                                    "3": "Augustyn Jankowski",
                                    "4": "Praca poprawna.",
                                    "5": "5",
                                    "6": "2019-10-11"
                                }
                            ]
                        },
                        "text/html": "<table><tr><th>Tytuł pracy dyplomowej</th><th>Typ studiów</th><th>Promotor</th><th>Autor Pracy</th><th>Komentarz recenzenta</th><th>Ocena Końcowa</th><th>Data Obrony</th></tr><tr><td>Metody analizy dokładności wyników pomiarów w systemach z numerycznym przetwarzaniem danych</td><td>inżynierskie</td><td>Anastazy Baran</td><td>Artur Wojciechowski</td><td>Drobne błędy.</td><td>4</td><td>2020-01-05</td></tr><tr><td>Mikroprocesorowy system informacyjny</td><td>inżynierskie</td><td>Lidia Ostrowska</td><td>Aleksander Woźniak</td><td>Praca dostateczna.</td><td>5</td><td>2019-07-14</td></tr><tr><td>Projekt i wykonanie plotera 2D wykorzystującego Raspberry Pi i silniki krokowe</td><td>inżynierskie</td><td>Wioletta Kaczmarczyk</td><td>Adam Kowalczyk</td><td>NULL</td><td>5</td><td>2019-02-12</td></tr><tr><td>Projekt wysokonapięciowego sterowanego iskiernika do pracy w układzie generatora prądowego</td><td>inżynierskie</td><td>Gabriel Krawczyk</td><td>Aurelia Kozłowska</td><td>Praca poprawna.</td><td>3</td><td>2019-09-30</td></tr><tr><td>Sterownik silnika komutatorowego z korektorem współczynnika mocy</td><td>inżynierskie</td><td>Aneta Szulc</td><td>Agata Dąbrowska</td><td>Bardzo dobrze.</td><td>5</td><td>2019-05-12</td></tr><tr><td>System testowy dla układów automatyki opartych o komunikaty GOOSE</td><td>inżynierskie</td><td>Natan Lis</td><td>Agnieszka Kowalczyk</td><td>NULL</td><td>5</td><td>2019-01-12</td></tr><tr><td>Trójwymiarowe obiekty w przeglądarce</td><td>inżynierskie</td><td>Florian Michalak</td><td>Artur Mazur</td><td>Praca wyczerpuje temat.</td><td>5</td><td>2020-02-03</td></tr><tr><td>Zastosowanie superkondensatorów do generowania udarów prądowych</td><td>inżynierskie</td><td>Gabriel Krawczyk</td><td>Augustyn Jankowski</td><td>Praca poprawna.</td><td>5</td><td>2019-10-11</td></tr></table>"
                    },
                    "metadata": {}
                }
            ],
            "execution_count": 46
        },
        {
            "cell_type": "markdown",
            "source": [
                "8\\. Uzyskanie informacji o wszystkich pracach z danej tematyki (o podanym słowie kluczowym)"
            ],
            "metadata": {
                "azdata_cell_guid": "71ed8903-bbc1-482b-8ca0-3308a9bbfbee"
            },
            "attachments": {}
        },
        {
            "cell_type": "code",
            "source": [
                "SELECT \r\n",
                "Slownik.NazwaSlowaKluczowego AS 'Tematyka',  \r\n",
                "PracaDyplomowa.Temat AS 'Tytuł pracy dyplomowej',\r\n",
                "TypStudiow.NazwaTypuStudiow AS 'Typ studiów',\r\n",
                "CONCAT(Pracownik.Imie,' ',Pracownik.Nazwisko) AS 'Promotor',\r\n",
                "CONCAT(Student.Imie,' ',Student.Nazwisko) AS 'Autor Pracy',\r\n",
                "Recenzja.Komentarz AS 'Komentarz recenzenta',\r\n",
                "EgzaminDyplomowy.OcenaKoncowa AS 'Ocena Końcowa',\r\n",
                "EgzaminDyplomowy.[Data] AS 'Data Obrony'\r\n",
                "\r\n",
                "FROM\r\n",
                "PracaDyplomowa\r\n",
                "LEFT JOIN TypStudiow ON TypStudiow.ID_TypStudiow = PracaDyplomowa.ID_TypStudiow\r\n",
                "LEFT JOIN Pracownik ON Pracownik.ID_Pracownik = PracaDyplomowa.ID_Promotor\r\n",
                "LEFT JOIN EgzaminDyplomowy ON EgzaminDyplomowy.ID_Praca = PracaDyplomowa.ID_Praca\r\n",
                "LEFt JOIN Student ON Student.ID_Student = EgzaminDyplomowy.ID_Student\r\n",
                "LEFT JOIN Recenzja ON Recenzja.ID_Praca = PracaDyplomowa.ID_Praca\r\n",
                "LEFT JOIN SlowoKluczowe ON SlowoKluczowe.ID_Praca = PracaDyplomowa.ID_Praca\r\n",
                "LEFT JOIN Slownik ON Slownik.ID_Slowo=SlowoKluczowe.ID_Slowo\r\n",
                "\r\n",
                "WHERE Slownik.NazwaSlowaKluczowego = 'informatyka'\r\n",
                "ORDER BY PracaDyplomowa.Temat "
            ],
            "metadata": {
                "azdata_cell_guid": "b3ce1023-3403-494a-b7cd-9dcd29528ba7",
                "tags": []
            },
            "outputs": [
                {
                    "output_type": "display_data",
                    "data": {
                        "text/html": "(4 rows affected)"
                    },
                    "metadata": {}
                },
                {
                    "output_type": "display_data",
                    "data": {
                        "text/html": "Total execution time: 00:00:00.006"
                    },
                    "metadata": {}
                },
                {
                    "output_type": "execute_result",
                    "execution_count": 50,
                    "data": {
                        "application/vnd.dataresource+json": {
                            "schema": {
                                "fields": [
                                    {
                                        "name": "Tematyka"
                                    },
                                    {
                                        "name": "Tytuł pracy dyplomowej"
                                    },
                                    {
                                        "name": "Typ studiów"
                                    },
                                    {
                                        "name": "Promotor"
                                    },
                                    {
                                        "name": "Autor Pracy"
                                    },
                                    {
                                        "name": "Komentarz recenzenta"
                                    },
                                    {
                                        "name": "Ocena Końcowa"
                                    },
                                    {
                                        "name": "Data Obrony"
                                    }
                                ]
                            },
                            "data": [
                                {
                                    "0": "informatyka",
                                    "1": "Bezpieczeństwo informatyczne systemów operacyjnych stosowanych w elektroenergetyce",
                                    "2": "magisterskie",
                                    "3": "Mirosław Sikorski",
                                    "4": " ",
                                    "5": "NULL",
                                    "6": "NULL",
                                    "7": "NULL"
                                },
                                {
                                    "0": "informatyka",
                                    "1": "Projekt i wykonanie plotera 2D wykorzystującego Raspberry Pi i silniki krokowe",
                                    "2": "inżynierskie",
                                    "3": "Wioletta Kaczmarczyk",
                                    "4": "Adam Kowalczyk",
                                    "5": "NULL",
                                    "6": "5",
                                    "7": "2019-02-12"
                                },
                                {
                                    "0": "informatyka",
                                    "1": "System testowy dla układów automatyki opartych o komunikaty GOOSE",
                                    "2": "inżynierskie",
                                    "3": "Natan Lis",
                                    "4": "Agnieszka Kowalczyk",
                                    "5": "NULL",
                                    "6": "5",
                                    "7": "2019-01-12"
                                },
                                {
                                    "0": "informatyka",
                                    "1": "Trójwymiarowe obiekty w przeglądarce",
                                    "2": "inżynierskie",
                                    "3": "Florian Michalak",
                                    "4": "Artur Mazur",
                                    "5": "Praca wyczerpuje temat.",
                                    "6": "5",
                                    "7": "2020-02-03"
                                }
                            ]
                        },
                        "text/html": "<table><tr><th>Tematyka</th><th>Tytuł pracy dyplomowej</th><th>Typ studiów</th><th>Promotor</th><th>Autor Pracy</th><th>Komentarz recenzenta</th><th>Ocena Końcowa</th><th>Data Obrony</th></tr><tr><td>informatyka</td><td>Bezpieczeństwo informatyczne systemów operacyjnych stosowanych w elektroenergetyce</td><td>magisterskie</td><td>Mirosław Sikorski</td><td> </td><td>NULL</td><td>NULL</td><td>NULL</td></tr><tr><td>informatyka</td><td>Projekt i wykonanie plotera 2D wykorzystującego Raspberry Pi i silniki krokowe</td><td>inżynierskie</td><td>Wioletta Kaczmarczyk</td><td>Adam Kowalczyk</td><td>NULL</td><td>5</td><td>2019-02-12</td></tr><tr><td>informatyka</td><td>System testowy dla układów automatyki opartych o komunikaty GOOSE</td><td>inżynierskie</td><td>Natan Lis</td><td>Agnieszka Kowalczyk</td><td>NULL</td><td>5</td><td>2019-01-12</td></tr><tr><td>informatyka</td><td>Trójwymiarowe obiekty w przeglądarce</td><td>inżynierskie</td><td>Florian Michalak</td><td>Artur Mazur</td><td>Praca wyczerpuje temat.</td><td>5</td><td>2020-02-03</td></tr></table>"
                    },
                    "metadata": {}
                }
            ],
            "execution_count": 50
        },
        {
            "cell_type": "markdown",
            "source": [
                "9\\. Uzyskanie listy wszystkich prac z informacją o jej autorach (tylko prace z autorem)"
            ],
            "metadata": {
                "azdata_cell_guid": "e6582bbf-9039-410e-b4cf-8d24f50a1080"
            },
            "attachments": {}
        },
        {
            "cell_type": "code",
            "source": [
                "SELECT  \r\n",
                "PracaDyplomowa.Temat AS 'Tytuł pracy dyplomowej',\r\n",
                "CONCAT(Student.Imie,' ',Student.Nazwisko) AS 'Autor Pracy'\r\n",
                "\r\n",
                "FROM\r\n",
                "PracaDyplomowa\r\n",
                "LEFT JOIN TypStudiow ON TypStudiow.ID_TypStudiow = PracaDyplomowa.ID_TypStudiow\r\n",
                "LEFT JOIN EgzaminDyplomowy ON EgzaminDyplomowy.ID_Praca = PracaDyplomowa.ID_Praca\r\n",
                "JOIN Student ON Student.ID_Student = EgzaminDyplomowy.ID_Student\r\n",
                "\r\n",
                "ORDER BY PracaDyplomowa.Temat "
            ],
            "metadata": {
                "azdata_cell_guid": "0609e202-d912-4e89-b8d0-521f403482a3",
                "tags": []
            },
            "outputs": [
                {
                    "output_type": "display_data",
                    "data": {
                        "text/html": "(14 rows affected)"
                    },
                    "metadata": {}
                },
                {
                    "output_type": "display_data",
                    "data": {
                        "text/html": "Total execution time: 00:00:00.004"
                    },
                    "metadata": {}
                },
                {
                    "output_type": "execute_result",
                    "execution_count": 58,
                    "data": {
                        "application/vnd.dataresource+json": {
                            "schema": {
                                "fields": [
                                    {
                                        "name": "Tytuł pracy dyplomowej"
                                    },
                                    {
                                        "name": "Autor Pracy"
                                    }
                                ]
                            },
                            "data": [
                                {
                                    "0": "Analiza zanieczyszczenia światłem na terenie Warszawy w latach 2012-2021",
                                    "1": "Adrian Wiśniewski"
                                },
                                {
                                    "0": "Metody analizy dokładności wyników pomiarów w systemach z numerycznym przetwarzaniem danych",
                                    "1": "Artur Wojciechowski"
                                },
                                {
                                    "0": "Mikroprocesorowy system informacyjny",
                                    "1": "Aleksander Woźniak"
                                },
                                {
                                    "0": "Model wyłącznika wysokonapięciowego",
                                    "1": "Apoloniusz Lawendowski"
                                },
                                {
                                    "0": "Moduł kondycjonowania sygnałów z interfejsem komputerowym",
                                    "1": "Szymon Szymański"
                                },
                                {
                                    "0": "Projekt i wykonanie plotera 2D wykorzystującego Raspberry Pi i silniki krokowe",
                                    "1": "Adam Kowalczyk"
                                },
                                {
                                    "0": "Projekt wysokonapięciowego sterowanego iskiernika do pracy w układzie generatora prądowego",
                                    "1": "Aurelia Kozłowska"
                                },
                                {
                                    "0": "Sterowanie autonomicznej bezzałogowej łodzi podwodnej",
                                    "1": "Andrzej Kowalski"
                                },
                                {
                                    "0": "Sterownik silnika komutatorowego z korektorem współczynnika mocy",
                                    "1": "Agata Dąbrowska"
                                },
                                {
                                    "0": "Symulator - optymalizacja rojem cząstek",
                                    "1": "Alina Kamińska"
                                },
                                {
                                    "0": "System testowy dla układów automatyki opartych o komunikaty GOOSE",
                                    "1": "Agnieszka Kowalczyk"
                                },
                                {
                                    "0": "Trójwymiarowe obiekty w przeglądarce",
                                    "1": "Artur Mazur"
                                },
                                {
                                    "0": "Zastosowanie metod analizy korelacyjnej do eliminacji zakłóceń i szumów z sygnałów pomiarowych",
                                    "1": "Adela Zielińska"
                                },
                                {
                                    "0": "Zastosowanie superkondensatorów do generowania udarów prądowych",
                                    "1": "Augustyn Jankowski"
                                }
                            ]
                        },
                        "text/html": "<table><tr><th>Tytuł pracy dyplomowej</th><th>Autor Pracy</th></tr><tr><td>Analiza zanieczyszczenia światłem na terenie Warszawy w latach 2012-2021</td><td>Adrian Wiśniewski</td></tr><tr><td>Metody analizy dokładności wyników pomiarów w systemach z numerycznym przetwarzaniem danych</td><td>Artur Wojciechowski</td></tr><tr><td>Mikroprocesorowy system informacyjny</td><td>Aleksander Woźniak</td></tr><tr><td>Model wyłącznika wysokonapięciowego</td><td>Apoloniusz Lawendowski</td></tr><tr><td>Moduł kondycjonowania sygnałów z interfejsem komputerowym</td><td>Szymon Szymański</td></tr><tr><td>Projekt i wykonanie plotera 2D wykorzystującego Raspberry Pi i silniki krokowe</td><td>Adam Kowalczyk</td></tr><tr><td>Projekt wysokonapięciowego sterowanego iskiernika do pracy w układzie generatora prądowego</td><td>Aurelia Kozłowska</td></tr><tr><td>Sterowanie autonomicznej bezzałogowej łodzi podwodnej</td><td>Andrzej Kowalski</td></tr><tr><td>Sterownik silnika komutatorowego z korektorem współczynnika mocy</td><td>Agata Dąbrowska</td></tr><tr><td>Symulator - optymalizacja rojem cząstek</td><td>Alina Kamińska</td></tr><tr><td>System testowy dla układów automatyki opartych o komunikaty GOOSE</td><td>Agnieszka Kowalczyk</td></tr><tr><td>Trójwymiarowe obiekty w przeglądarce</td><td>Artur Mazur</td></tr><tr><td>Zastosowanie metod analizy korelacyjnej do eliminacji zakłóceń i szumów z sygnałów pomiarowych</td><td>Adela Zielińska</td></tr><tr><td>Zastosowanie superkondensatorów do generowania udarów prądowych</td><td>Augustyn Jankowski</td></tr></table>"
                    },
                    "metadata": {}
                }
            ],
            "execution_count": 58
        },
        {
            "cell_type": "markdown",
            "source": [
                "10\\. Uzyskanie listy wszystkich prac z informacją o jej promotorze"
            ],
            "metadata": {
                "azdata_cell_guid": "fa83f7ef-d71d-4dd0-bf89-f42e456803a9"
            },
            "attachments": {}
        },
        {
            "cell_type": "code",
            "source": [
                "SELECT \r\n",
                "PracaDyplomowa.Temat AS 'Tytuł pracy dyplomowej',\r\n",
                "CONCAT(Pracownik.Imie,' ',Pracownik.Nazwisko) AS 'Promotor'\r\n",
                "\r\n",
                "FROM\r\n",
                "PracaDyplomowa\r\n",
                "LEFT JOIN TypStudiow ON TypStudiow.ID_TypStudiow = PracaDyplomowa.ID_TypStudiow\r\n",
                "LEFT JOIN Pracownik ON Pracownik.ID_Pracownik = PracaDyplomowa.ID_Promotor\r\n",
                "\r\n",
                "ORDER BY PracaDyplomowa.Temat"
            ],
            "metadata": {
                "azdata_cell_guid": "6e1503e4-4ad0-45e0-a79a-55b1d36ec849",
                "tags": []
            },
            "outputs": [
                {
                    "output_type": "display_data",
                    "data": {
                        "text/html": "(18 rows affected)"
                    },
                    "metadata": {}
                },
                {
                    "output_type": "display_data",
                    "data": {
                        "text/html": "Total execution time: 00:00:00.004"
                    },
                    "metadata": {}
                },
                {
                    "output_type": "execute_result",
                    "execution_count": 59,
                    "data": {
                        "application/vnd.dataresource+json": {
                            "schema": {
                                "fields": [
                                    {
                                        "name": "Tytuł pracy dyplomowej"
                                    },
                                    {
                                        "name": "Promotor"
                                    }
                                ]
                            },
                            "data": [
                                {
                                    "0": "Analiza zanieczyszczenia światłem na terenie Warszawy w latach 2012-2021",
                                    "1": "Lidia Ostrowska"
                                },
                                {
                                    "0": "Aplikacja mobilna wspierająca pracę przedstawicieli handlowych.",
                                    "1": "Aneta Szulc"
                                },
                                {
                                    "0": "Bezpieczeństwo informatyczne systemów operacyjnych stosowanych w elektroenergetyce",
                                    "1": "Mirosław Sikorski"
                                },
                                {
                                    "0": "Metody analizy dokładności wyników pomiarów w systemach z numerycznym przetwarzaniem danych",
                                    "1": "Anastazy Baran"
                                },
                                {
                                    "0": "Mikroprocesorowy system informacyjny",
                                    "1": "Lidia Ostrowska"
                                },
                                {
                                    "0": "Model wyłącznika wysokonapięciowego",
                                    "1": "Nina Laskowska"
                                },
                                {
                                    "0": "Moduł kondycjonowania sygnałów z interfejsem komputerowym",
                                    "1": "Natan Lis"
                                },
                                {
                                    "0": "Projekt aplikacji wspomagającej proces doboru pracownika – „która z osób będzie najlepszym kandydatem na informatyka?”",
                                    "1": "Ignacy Bąk"
                                },
                                {
                                    "0": "Projekt bazy danych dla sieci prywatnych ośrodków zdrowia.",
                                    "1": "Natan Lis"
                                },
                                {
                                    "0": "Projekt i wykonanie plotera 2D wykorzystującego Raspberry Pi i silniki krokowe",
                                    "1": "Wioletta Kaczmarczyk"
                                },
                                {
                                    "0": "Projekt wysokonapięciowego sterowanego iskiernika do pracy w układzie generatora prądowego",
                                    "1": "Gabriel Krawczyk"
                                },
                                {
                                    "0": "Sterowanie autonomicznej bezzałogowej łodzi podwodnej",
                                    "1": "Henryk Maciejewski"
                                },
                                {
                                    "0": "Sterownik silnika komutatorowego z korektorem współczynnika mocy",
                                    "1": "Aneta Szulc"
                                },
                                {
                                    "0": "Symulator - optymalizacja rojem cząstek",
                                    "1": "Nina Laskowska"
                                },
                                {
                                    "0": "System testowy dla układów automatyki opartych o komunikaty GOOSE",
                                    "1": "Natan Lis"
                                },
                                {
                                    "0": "Trójwymiarowe obiekty w przeglądarce",
                                    "1": "Florian Michalak"
                                },
                                {
                                    "0": "Zastosowanie metod analizy korelacyjnej do eliminacji zakłóceń i szumów z sygnałów pomiarowych",
                                    "1": "Diana Marciniak"
                                },
                                {
                                    "0": "Zastosowanie superkondensatorów do generowania udarów prądowych",
                                    "1": "Gabriel Krawczyk"
                                }
                            ]
                        },
                        "text/html": "<table><tr><th>Tytuł pracy dyplomowej</th><th>Promotor</th></tr><tr><td>Analiza zanieczyszczenia światłem na terenie Warszawy w latach 2012-2021</td><td>Lidia Ostrowska</td></tr><tr><td>Aplikacja mobilna wspierająca pracę przedstawicieli handlowych.</td><td>Aneta Szulc</td></tr><tr><td>Bezpieczeństwo informatyczne systemów operacyjnych stosowanych w elektroenergetyce</td><td>Mirosław Sikorski</td></tr><tr><td>Metody analizy dokładności wyników pomiarów w systemach z numerycznym przetwarzaniem danych</td><td>Anastazy Baran</td></tr><tr><td>Mikroprocesorowy system informacyjny</td><td>Lidia Ostrowska</td></tr><tr><td>Model wyłącznika wysokonapięciowego</td><td>Nina Laskowska</td></tr><tr><td>Moduł kondycjonowania sygnałów z interfejsem komputerowym</td><td>Natan Lis</td></tr><tr><td>Projekt aplikacji wspomagającej proces doboru pracownika – „która z osób będzie najlepszym kandydatem na informatyka?”</td><td>Ignacy Bąk</td></tr><tr><td>Projekt bazy danych dla sieci prywatnych ośrodków zdrowia.</td><td>Natan Lis</td></tr><tr><td>Projekt i wykonanie plotera 2D wykorzystującego Raspberry Pi i silniki krokowe</td><td>Wioletta Kaczmarczyk</td></tr><tr><td>Projekt wysokonapięciowego sterowanego iskiernika do pracy w układzie generatora prądowego</td><td>Gabriel Krawczyk</td></tr><tr><td>Sterowanie autonomicznej bezzałogowej łodzi podwodnej</td><td>Henryk Maciejewski</td></tr><tr><td>Sterownik silnika komutatorowego z korektorem współczynnika mocy</td><td>Aneta Szulc</td></tr><tr><td>Symulator - optymalizacja rojem cząstek</td><td>Nina Laskowska</td></tr><tr><td>System testowy dla układów automatyki opartych o komunikaty GOOSE</td><td>Natan Lis</td></tr><tr><td>Trójwymiarowe obiekty w przeglądarce</td><td>Florian Michalak</td></tr><tr><td>Zastosowanie metod analizy korelacyjnej do eliminacji zakłóceń i szumów z sygnałów pomiarowych</td><td>Diana Marciniak</td></tr><tr><td>Zastosowanie superkondensatorów do generowania udarów prądowych</td><td>Gabriel Krawczyk</td></tr></table>"
                    },
                    "metadata": {}
                }
            ],
            "execution_count": 59
        },
        {
            "cell_type": "markdown",
            "source": [
                "12\\. Uzyskanie informacji o pracy dyplomowej określonego studenta po podaniu jego nazwiska"
            ],
            "metadata": {
                "azdata_cell_guid": "7055162c-aa5a-4702-8f2b-c033fbd7fb92"
            },
            "attachments": {}
        },
        {
            "cell_type": "code",
            "source": [
                "SELECT Student.Nazwisko,\r\n",
                "Student.Imie,\r\n",
                "PracaDyplomowa.Temat AS 'Tytuł pracy dyplomowej',\r\n",
                "PracaDyplomowa.DataZlozenia AS 'Data złożenia',\r\n",
                "TypStudiow.NazwaTypuStudiow AS 'Typ studiów',\r\n",
                "CONCAT(Pracownik.Imie,' ',Pracownik.Nazwisko) AS 'Promotor',\r\n",
                "Recenzja.Komentarz AS 'Komentarz recenzenta',\r\n",
                "Recenzja.Ocena AS 'Ocena recenzenta',\r\n",
                "EgzaminDyplomowy.OcenaKoncowa AS 'Ocena Końcowa',\r\n",
                "EgzaminDyplomowy.[Data] AS 'Data Obrony'\r\n",
                "\r\n",
                "FROM\r\n",
                "PracaDyplomowa\r\n",
                "LEFT JOIN TypStudiow ON TypStudiow.ID_TypStudiow = PracaDyplomowa.ID_TypStudiow\r\n",
                "LEFT JOIN Pracownik ON Pracownik.ID_Pracownik = PracaDyplomowa.ID_Promotor\r\n",
                "LEFT JOIN EgzaminDyplomowy ON EgzaminDyplomowy.ID_Praca = PracaDyplomowa.ID_Praca\r\n",
                "LEFt JOIN Student ON Student.ID_Student = EgzaminDyplomowy.ID_Student\r\n",
                "LEFT JOIN Recenzja ON Recenzja.ID_Praca = PracaDyplomowa.ID_Praca\r\n",
                "\r\n",
                "WHERE Student.Nazwisko = 'Kozłowska'\r\n",
                "ORDER BY PracaDyplomowa.Temat"
            ],
            "metadata": {
                "azdata_cell_guid": "9f604f03-33f4-4a80-b517-075d0375209a",
                "tags": []
            },
            "outputs": [
                {
                    "output_type": "display_data",
                    "data": {
                        "text/html": "(1 row affected)"
                    },
                    "metadata": {}
                },
                {
                    "output_type": "display_data",
                    "data": {
                        "text/html": "Total execution time: 00:00:00.005"
                    },
                    "metadata": {}
                },
                {
                    "output_type": "execute_result",
                    "execution_count": 70,
                    "data": {
                        "application/vnd.dataresource+json": {
                            "schema": {
                                "fields": [
                                    {
                                        "name": "Nazwisko"
                                    },
                                    {
                                        "name": "Imie"
                                    },
                                    {
                                        "name": "Tytuł pracy dyplomowej"
                                    },
                                    {
                                        "name": "Data złożenia"
                                    },
                                    {
                                        "name": "Typ studiów"
                                    },
                                    {
                                        "name": "Promotor"
                                    },
                                    {
                                        "name": "Komentarz recenzenta"
                                    },
                                    {
                                        "name": "Ocena recenzenta"
                                    },
                                    {
                                        "name": "Ocena Końcowa"
                                    },
                                    {
                                        "name": "Data Obrony"
                                    }
                                ]
                            },
                            "data": [
                                {
                                    "0": "Kozłowska",
                                    "1": "Aurelia",
                                    "2": "Projekt wysokonapięciowego sterowanego iskiernika do pracy w układzie generatora prądowego",
                                    "3": "2014-04-04",
                                    "4": "inżynierskie",
                                    "5": "Gabriel Krawczyk",
                                    "6": "Praca poprawna.",
                                    "7": "3",
                                    "8": "3",
                                    "9": "2019-09-30"
                                }
                            ]
                        },
                        "text/html": "<table><tr><th>Nazwisko</th><th>Imie</th><th>Tytuł pracy dyplomowej</th><th>Data złożenia</th><th>Typ studiów</th><th>Promotor</th><th>Komentarz recenzenta</th><th>Ocena recenzenta</th><th>Ocena Końcowa</th><th>Data Obrony</th></tr><tr><td>Kozłowska</td><td>Aurelia</td><td>Projekt wysokonapięciowego sterowanego iskiernika do pracy w układzie generatora prądowego</td><td>2014-04-04</td><td>inżynierskie</td><td>Gabriel Krawczyk</td><td>Praca poprawna.</td><td>3</td><td>3</td><td>2019-09-30</td></tr></table>"
                    },
                    "metadata": {}
                }
            ],
            "execution_count": 70
        },
        {
            "cell_type": "markdown",
            "source": [
                "13\\. Uzyskanie informacji o wszystkich pracach prowadzonych przez podanego z nazwiska promotora"
            ],
            "metadata": {
                "azdata_cell_guid": "63d712d0-494d-40e5-85f3-f74ab62d1c8c"
            },
            "attachments": {}
        },
        {
            "cell_type": "code",
            "source": [
                "SELECT \r\n",
                "Pracownik.Nazwisko,\r\n",
                "Pracownik.Imie,\r\n",
                "PracaDyplomowa.Temat AS 'Tytuł pracy dyplomowej',\r\n",
                "PracaDyplomowa.DataZlozenia AS 'Data złożenia',\r\n",
                "TypStudiow.NazwaTypuStudiow AS 'Typ studiów',\r\n",
                "CONCAT(Student.Imie,' ',Student.Nazwisko) AS 'Student',\r\n",
                "EgzaminDyplomowy.OcenaKoncowa AS 'Ocena Końcowa',\r\n",
                "EgzaminDyplomowy.[Data] AS 'Data Obrony'\r\n",
                "\r\n",
                "FROM\r\n",
                "PracaDyplomowa\r\n",
                "LEFT JOIN TypStudiow ON TypStudiow.ID_TypStudiow = PracaDyplomowa.ID_TypStudiow\r\n",
                "LEFT JOIN Pracownik ON Pracownik.ID_Pracownik = PracaDyplomowa.ID_Promotor\r\n",
                "LEFT JOIN EgzaminDyplomowy ON EgzaminDyplomowy.ID_Praca = PracaDyplomowa.ID_Praca\r\n",
                "LEFt JOIN Student ON Student.ID_Student = EgzaminDyplomowy.ID_Student\r\n",
                "\r\n",
                "WHERE Pracownik.Nazwisko = 'Lis'\r\n",
                "ORDER BY PracaDyplomowa.Temat"
            ],
            "metadata": {
                "azdata_cell_guid": "9ab7820b-3635-489d-8f10-7a56116b2d10"
            },
            "outputs": [
                {
                    "output_type": "display_data",
                    "data": {
                        "text/html": "(3 rows affected)"
                    },
                    "metadata": {}
                },
                {
                    "output_type": "display_data",
                    "data": {
                        "text/html": "Total execution time: 00:00:00.004"
                    },
                    "metadata": {}
                },
                {
                    "output_type": "execute_result",
                    "execution_count": 74,
                    "data": {
                        "application/vnd.dataresource+json": {
                            "schema": {
                                "fields": [
                                    {
                                        "name": "Nazwisko"
                                    },
                                    {
                                        "name": "Imie"
                                    },
                                    {
                                        "name": "Tytuł pracy dyplomowej"
                                    },
                                    {
                                        "name": "Data złożenia"
                                    },
                                    {
                                        "name": "Typ studiów"
                                    },
                                    {
                                        "name": "Student"
                                    },
                                    {
                                        "name": "Ocena Końcowa"
                                    },
                                    {
                                        "name": "Data Obrony"
                                    }
                                ]
                            },
                            "data": [
                                {
                                    "0": "Lis",
                                    "1": "Natan",
                                    "2": "Moduł kondycjonowania sygnałów z interfejsem komputerowym",
                                    "3": "2019-03-11",
                                    "4": "licencjackie",
                                    "5": "Szymon Szymański",
                                    "6": "4",
                                    "7": "2019-07-11"
                                },
                                {
                                    "0": "Lis",
                                    "1": "Natan",
                                    "2": "Projekt bazy danych dla sieci prywatnych ośrodków zdrowia.",
                                    "3": "NULL",
                                    "4": "licencjackie",
                                    "5": " ",
                                    "6": "NULL",
                                    "7": "NULL"
                                },
                                {
                                    "0": "Lis",
                                    "1": "Natan",
                                    "2": "System testowy dla układów automatyki opartych o komunikaty GOOSE",
                                    "3": "2013-11-19",
                                    "4": "inżynierskie",
                                    "5": "Agnieszka Kowalczyk",
                                    "6": "5",
                                    "7": "2019-01-12"
                                }
                            ]
                        },
                        "text/html": "<table><tr><th>Nazwisko</th><th>Imie</th><th>Tytuł pracy dyplomowej</th><th>Data złożenia</th><th>Typ studiów</th><th>Student</th><th>Ocena Końcowa</th><th>Data Obrony</th></tr><tr><td>Lis</td><td>Natan</td><td>Moduł kondycjonowania sygnałów z interfejsem komputerowym</td><td>2019-03-11</td><td>licencjackie</td><td>Szymon Szymański</td><td>4</td><td>2019-07-11</td></tr><tr><td>Lis</td><td>Natan</td><td>Projekt bazy danych dla sieci prywatnych ośrodków zdrowia.</td><td>NULL</td><td>licencjackie</td><td> </td><td>NULL</td><td>NULL</td></tr><tr><td>Lis</td><td>Natan</td><td>System testowy dla układów automatyki opartych o komunikaty GOOSE</td><td>2013-11-19</td><td>inżynierskie</td><td>Agnieszka Kowalczyk</td><td>5</td><td>2019-01-12</td></tr></table>"
                    },
                    "metadata": {}
                }
            ],
            "execution_count": 74
        },
        {
            "cell_type": "markdown",
            "source": [
                "14\\. Uzyskanie informacji o wszystkich pracach obronionych na studiach magisterskich w podanym dniu"
            ],
            "metadata": {
                "azdata_cell_guid": "566aad7a-d7c9-48e8-b9df-b32ea9a17bdc"
            },
            "attachments": {}
        },
        {
            "cell_type": "code",
            "source": [
                "SELECT \r\n",
                "PracaDyplomowa.Temat AS 'Tytuł pracy dyplomowej',\r\n",
                "PracaDyplomowa.DataZlozenia AS 'Data złożenia',\r\n",
                "TypStudiow.NazwaTypuStudiow AS 'Typ studiów',\r\n",
                "CONCAT(Pracownik.Imie,' ',Pracownik.Nazwisko) AS 'Promotor',\r\n",
                "CONCAT(Student.Imie,' ',Student.Nazwisko) AS 'Autor pracy',\r\n",
                "TypStudiow.NazwaTypuStudiow,\r\n",
                "EgzaminDyplomowy.OcenaKoncowa AS 'Ocena Końcowa',\r\n",
                "EgzaminDyplomowy.[Data] AS 'Data Obrony'\r\n",
                "\r\n",
                "FROM\r\n",
                "PracaDyplomowa\r\n",
                "LEFT JOIN TypStudiow ON TypStudiow.ID_TypStudiow = PracaDyplomowa.ID_TypStudiow\r\n",
                "LEFT JOIN Pracownik ON Pracownik.ID_Pracownik = PracaDyplomowa.ID_Promotor\r\n",
                "LEFT JOIN EgzaminDyplomowy ON EgzaminDyplomowy.ID_Praca = PracaDyplomowa.ID_Praca\r\n",
                "LEFT JOIN Student ON Student.ID_Student = EgzaminDyplomowy.ID_Student\r\n",
                "\r\n",
                "\r\n",
                "WHERE TypStudiow.NazwaTypuStudiow = 'magisterskie' AND EgzaminDyplomowy.[Data] = '2019-04-12'\r\n",
                "ORDER BY PracaDyplomowa.Temat"
            ],
            "metadata": {
                "azdata_cell_guid": "69217987-58f2-4aa6-a7b1-8c9cb449c1ec",
                "tags": [
                    "hide_input"
                ]
            },
            "outputs": [
                {
                    "output_type": "display_data",
                    "data": {
                        "text/html": "(1 row affected)"
                    },
                    "metadata": {}
                },
                {
                    "output_type": "display_data",
                    "data": {
                        "text/html": "Total execution time: 00:00:00.006"
                    },
                    "metadata": {}
                },
                {
                    "output_type": "execute_result",
                    "execution_count": 82,
                    "data": {
                        "application/vnd.dataresource+json": {
                            "schema": {
                                "fields": [
                                    {
                                        "name": "Tytuł pracy dyplomowej"
                                    },
                                    {
                                        "name": "Data złożenia"
                                    },
                                    {
                                        "name": "Typ studiów"
                                    },
                                    {
                                        "name": "Promotor"
                                    },
                                    {
                                        "name": "Autor pracy"
                                    },
                                    {
                                        "name": "NazwaTypuStudiow"
                                    },
                                    {
                                        "name": "Ocena Końcowa"
                                    },
                                    {
                                        "name": "Data Obrony"
                                    }
                                ]
                            },
                            "data": [
                                {
                                    "0": "Model wyłącznika wysokonapięciowego",
                                    "1": "2011-01-20",
                                    "2": "magisterskie",
                                    "3": "Nina Laskowska",
                                    "4": "Apoloniusz Lawendowski",
                                    "5": "magisterskie",
                                    "6": "5",
                                    "7": "2019-04-12"
                                }
                            ]
                        },
                        "text/html": "<table><tr><th>Tytuł pracy dyplomowej</th><th>Data złożenia</th><th>Typ studiów</th><th>Promotor</th><th>Autor pracy</th><th>NazwaTypuStudiow</th><th>Ocena Końcowa</th><th>Data Obrony</th></tr><tr><td>Model wyłącznika wysokonapięciowego</td><td>2011-01-20</td><td>magisterskie</td><td>Nina Laskowska</td><td>Apoloniusz Lawendowski</td><td>magisterskie</td><td>5</td><td>2019-04-12</td></tr></table>"
                    },
                    "metadata": {}
                }
            ],
            "execution_count": 82
        },
        {
            "cell_type": "markdown",
            "source": [
                "15\\. Uzyskanie listy studentów, którzy nie obronili pracy dyplomowej, z podaniem tematu tej pracy."
            ],
            "metadata": {
                "azdata_cell_guid": "4bb21bd4-6098-4991-b278-6f7c086470ef"
            },
            "attachments": {}
        },
        {
            "cell_type": "code",
            "source": [
                "SELECT \r\n",
                "Student.Nazwisko,\r\n",
                "Student.Imie,\r\n",
                "PracaDyplomowa.Temat,\r\n",
                "EgzaminDyplomowy.OcenaKoncowa\r\n",
                "\r\n",
                "FROM\r\n",
                "Student\r\n",
                "LEFT JOIN EgzaminDyplomowy ON EgzaminDyplomowy.ID_Student = Student.ID_Student\r\n",
                "JOIN PracaDyplomowa ON PracaDyplomowa.ID_Praca=EgzaminDyplomowy.ID_Praca\r\n",
                "\r\n",
                "WHERE EgzaminDyplomowy.OcenaKoncowa < 3 OR  EgzaminDyplomowy.OcenaKoncowa IS NULL"
            ],
            "metadata": {
                "azdata_cell_guid": "4e512294-8fd5-4075-9e6a-90d981d64398",
                "tags": []
            },
            "outputs": [
                {
                    "output_type": "display_data",
                    "data": {
                        "text/html": "(1 row affected)"
                    },
                    "metadata": {}
                },
                {
                    "output_type": "display_data",
                    "data": {
                        "text/html": "Total execution time: 00:00:00.003"
                    },
                    "metadata": {}
                },
                {
                    "output_type": "execute_result",
                    "execution_count": 89,
                    "data": {
                        "application/vnd.dataresource+json": {
                            "schema": {
                                "fields": [
                                    {
                                        "name": "Nazwisko"
                                    },
                                    {
                                        "name": "Imie"
                                    },
                                    {
                                        "name": "Temat"
                                    },
                                    {
                                        "name": "OcenaKoncowa"
                                    }
                                ]
                            },
                            "data": [
                                {
                                    "0": "Wiśniewski",
                                    "1": "Adrian",
                                    "2": "Analiza zanieczyszczenia światłem na terenie Warszawy w latach 2012-2021",
                                    "3": "2"
                                }
                            ]
                        },
                        "text/html": "<table><tr><th>Nazwisko</th><th>Imie</th><th>Temat</th><th>OcenaKoncowa</th></tr><tr><td>Wiśniewski</td><td>Adrian</td><td>Analiza zanieczyszczenia światłem na terenie Warszawy w latach 2012-2021</td><td>2</td></tr></table>"
                    },
                    "metadata": {}
                }
            ],
            "execution_count": 89
        },
        {
            "cell_type": "markdown",
            "source": [
                "- _wyświetlenie raportu o pracach obronionych na podanym kierunku studiów lub w podanym roku._\n",
                "- _na przykładzie prac obronionych w 2019r_"
            ],
            "metadata": {
                "azdata_cell_guid": "478e8aaa-fcc9-4597-8969-49211d473487"
            },
            "attachments": {}
        },
        {
            "cell_type": "code",
            "source": [
                "SELECT PracaDyplomowa.Temat,\r\n",
                "CONCAT(Student.Imie,' ',student.Nazwisko) AS 'Autor',\r\n",
                "CONCAT(Pracownik.Imie,' ',Pracownik.Nazwisko) AS 'Przewodniczący',\r\n",
                "EgzaminDyplomowy.[Data] AS 'Data obrony',\r\n",
                "EgzaminDyplomowy.OcenaKoncowa\r\n",
                "\r\n",
                "FROM EgzaminDyplomowy\r\n",
                "LEFT JOIN Student ON Student.ID_Student = EgzaminDyplomowy.ID_Student\r\n",
                "LEFT JOIN Pracownik ON Pracownik.ID_Pracownik = EgzaminDyplomowy.ID_Przewodniczacy\r\n",
                "LEFT JOIN PracaDyplomowa ON PracaDyplomowa.ID_Praca = EgzaminDyplomowy.ID_Praca\r\n",
                "WHERE YEAR(EgzaminDyplomowy.[Data]) =2019\r\n",
                "\r\n",
                ""
            ],
            "metadata": {
                "azdata_cell_guid": "3f849933-899d-4897-9bb1-b24fdb7aaab9"
            },
            "outputs": [
                {
                    "output_type": "display_data",
                    "data": {
                        "text/html": "(10 rows affected)"
                    },
                    "metadata": {}
                },
                {
                    "output_type": "display_data",
                    "data": {
                        "text/html": "Total execution time: 00:00:00.006"
                    },
                    "metadata": {}
                },
                {
                    "output_type": "execute_result",
                    "execution_count": 11,
                    "data": {
                        "application/vnd.dataresource+json": {
                            "schema": {
                                "fields": [
                                    {
                                        "name": "Temat"
                                    },
                                    {
                                        "name": "Autor"
                                    },
                                    {
                                        "name": "Przewodniczący"
                                    },
                                    {
                                        "name": "Data obrony"
                                    },
                                    {
                                        "name": "OcenaKoncowa"
                                    }
                                ]
                            },
                            "data": [
                                {
                                    "0": "System testowy dla układów automatyki opartych o komunikaty GOOSE",
                                    "1": "Agnieszka Kowalczyk",
                                    "2": "Maja Rutkowska",
                                    "3": "2019-01-12",
                                    "4": "5"
                                },
                                {
                                    "0": "Projekt i wykonanie plotera 2D wykorzystującego Raspberry Pi i silniki krokowe",
                                    "1": "Adam Kowalczyk",
                                    "2": "Natan Lis",
                                    "3": "2019-02-12",
                                    "4": "5"
                                },
                                {
                                    "0": "Symulator - optymalizacja rojem cząstek",
                                    "1": "Alina Kamińska",
                                    "2": "Gabriel Krawczyk",
                                    "3": "2019-03-12",
                                    "4": "4"
                                },
                                {
                                    "0": "Model wyłącznika wysokonapięciowego",
                                    "1": "Apoloniusz Lawendowski",
                                    "2": "Anastazy Baran",
                                    "3": "2019-04-12",
                                    "4": "5"
                                },
                                {
                                    "0": "Sterownik silnika komutatorowego z korektorem współczynnika mocy",
                                    "1": "Agata Dąbrowska",
                                    "2": "Anastazy Baran",
                                    "3": "2019-05-12",
                                    "4": "5"
                                },
                                {
                                    "0": "Zastosowanie metod analizy korelacyjnej do eliminacji zakłóceń i szumów z sygnałów pomiarowych",
                                    "1": "Adela Zielińska",
                                    "2": "Henryk Maciejewski",
                                    "3": "2019-06-14",
                                    "4": "3"
                                },
                                {
                                    "0": "Moduł kondycjonowania sygnałów z interfejsem komputerowym",
                                    "1": "Szymon Szymański",
                                    "2": "Ignacy Bąk",
                                    "3": "2019-07-11",
                                    "4": "4"
                                },
                                {
                                    "0": "Mikroprocesorowy system informacyjny",
                                    "1": "Aleksander Woźniak",
                                    "2": "Diana Marciniak",
                                    "3": "2019-07-14",
                                    "4": "5"
                                },
                                {
                                    "0": "Projekt wysokonapięciowego sterowanego iskiernika do pracy w układzie generatora prądowego",
                                    "1": "Aurelia Kozłowska",
                                    "2": "Natan Lis",
                                    "3": "2019-09-30",
                                    "4": "3"
                                },
                                {
                                    "0": "Zastosowanie superkondensatorów do generowania udarów prądowych",
                                    "1": "Augustyn Jankowski",
                                    "2": "Wioletta Kaczmarczyk",
                                    "3": "2019-10-11",
                                    "4": "5"
                                }
                            ]
                        },
                        "text/html": "<table><tr><th>Temat</th><th>Autor</th><th>Przewodniczący</th><th>Data obrony</th><th>OcenaKoncowa</th></tr><tr><td>System testowy dla układów automatyki opartych o komunikaty GOOSE</td><td>Agnieszka Kowalczyk</td><td>Maja Rutkowska</td><td>2019-01-12</td><td>5</td></tr><tr><td>Projekt i wykonanie plotera 2D wykorzystującego Raspberry Pi i silniki krokowe</td><td>Adam Kowalczyk</td><td>Natan Lis</td><td>2019-02-12</td><td>5</td></tr><tr><td>Symulator - optymalizacja rojem cząstek</td><td>Alina Kamińska</td><td>Gabriel Krawczyk</td><td>2019-03-12</td><td>4</td></tr><tr><td>Model wyłącznika wysokonapięciowego</td><td>Apoloniusz Lawendowski</td><td>Anastazy Baran</td><td>2019-04-12</td><td>5</td></tr><tr><td>Sterownik silnika komutatorowego z korektorem współczynnika mocy</td><td>Agata Dąbrowska</td><td>Anastazy Baran</td><td>2019-05-12</td><td>5</td></tr><tr><td>Zastosowanie metod analizy korelacyjnej do eliminacji zakłóceń i szumów z sygnałów pomiarowych</td><td>Adela Zielińska</td><td>Henryk Maciejewski</td><td>2019-06-14</td><td>3</td></tr><tr><td>Moduł kondycjonowania sygnałów z interfejsem komputerowym</td><td>Szymon Szymański</td><td>Ignacy Bąk</td><td>2019-07-11</td><td>4</td></tr><tr><td>Mikroprocesorowy system informacyjny</td><td>Aleksander Woźniak</td><td>Diana Marciniak</td><td>2019-07-14</td><td>5</td></tr><tr><td>Projekt wysokonapięciowego sterowanego iskiernika do pracy w układzie generatora prądowego</td><td>Aurelia Kozłowska</td><td>Natan Lis</td><td>2019-09-30</td><td>3</td></tr><tr><td>Zastosowanie superkondensatorów do generowania udarów prądowych</td><td>Augustyn Jankowski</td><td>Wioletta Kaczmarczyk</td><td>2019-10-11</td><td>5</td></tr></table>"
                    },
                    "metadata": {}
                }
            ],
            "execution_count": 11
        }
    ]
}